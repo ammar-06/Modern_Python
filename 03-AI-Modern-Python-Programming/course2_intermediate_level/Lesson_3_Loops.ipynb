{
  "nbformat": 4,
  "nbformat_minor": 0,
  "metadata": {
    "colab": {
      "provenance": []
    },
    "kernelspec": {
      "name": "python3",
      "display_name": "Python 3"
    },
    "language_info": {
      "name": "python"
    }
  },
  "cells": [
    {
      "cell_type": "markdown",
      "source": [
        "# Problem and Solution\n",
        "## The Problem:\n",
        "\n",
        "Imagine you’re organizing a birthday party and you want to send an invitation message to 50 of your friends. Without any tools or shortcuts, you would have to write the same message 50 times, changing only the name of each friend. This is repetitive and time-consuming.\n",
        "\n",
        "you would have to manually send each message like this:\n",
        "\n",
        "```\n",
        "print(\"Hi Alice, you’re invited to my birthday party!\")\n",
        "print(\"Hi Bob, you’re invited to my birthday party!\")\n",
        "print(\"Hi Charlie, you’re invited to my birthday party!\")\n",
        "# ...and so on, for 50 friends\n",
        "```\n",
        "\n",
        "If you have a long list of friends, this approach quickly becomes impractical. Not only does it take a lot of time, but if you want to change the message later, you’d have to edit each line individually.\n",
        "\n",
        "## The Solution: Using Loops to Automate Invitations\n",
        "\n",
        "Now, let’s say you want to automate this process. You can use a loop to send the same message to all your friends with just a few lines of code"
      ],
      "metadata": {
        "id": "u9tBb9z2SjcK"
      }
    },
    {
      "cell_type": "code",
      "source": [
        "friends = [\"Alice\", \"Bob\", \"Charlie\", \"David\", \"Eve\"]  # and so on, up to any number of names\n",
        "\n",
        "print(\"Hi friends[0] you’re invited to my birthday party!\")\n",
        "print(\"Hi friends[1] you’re invited to my birthday party!\")\n",
        "print(\"Hi friends[2] you’re invited to my birthday party!\")\n",
        "print(\"Hi friends[3] you’re invited to my birthday party!\")\n",
        "print(\"Hi friends[4] you’re invited to my birthday party!\")"
      ],
      "metadata": {
        "id": "gwarOKI5ufme"
      },
      "execution_count": null,
      "outputs": []
    },
    {
      "cell_type": "code",
      "execution_count": null,
      "metadata": {
        "id": "Q_kNEf_zScoS",
        "outputId": "f66fe8ed-fdcd-4ec9-b77f-05b08fcd9e36",
        "colab": {
          "base_uri": "https://localhost:8080/"
        }
      },
      "outputs": [
        {
          "output_type": "stream",
          "name": "stdout",
          "text": [
            "Hi Alice, you’re invited to my birthday party!\n",
            "Hi Bob, you’re invited to my birthday party!\n",
            "Hi Charlie, you’re invited to my birthday party!\n",
            "Hi David, you’re invited to my birthday party!\n",
            "Hi Eve, you’re invited to my birthday party!\n"
          ]
        }
      ],
      "source": [
        "friends = [\"Alice\", \"Bob\", \"Charlie\", \"David\", \"Eve\"]  # and so on, up to any number of names\n",
        "\n",
        "for friend in friends:\n",
        "    print(f\"Hi {friend}, you’re invited to my birthday party!\")"
      ]
    },
    {
      "cell_type": "markdown",
      "source": [
        "# For Loop\n",
        "\n",
        "The for loop is used to iterate over a sequence (like a list, tuple, set, string, dictionary) or any other iterable object. It allows you to execute a block of code a specific number of times, usually determined by the length of the sequence or the range of values.\n",
        "\n",
        "### Syntax\n",
        "\n",
        "```\n",
        "for item in iterable:\n",
        "    # Execute this block of code\n",
        "```\n"
      ],
      "metadata": {
        "id": "_4alw5VrT6hD"
      }
    },
    {
      "cell_type": "markdown",
      "source": [
        "### Iterating over a list"
      ],
      "metadata": {
        "id": "WG3-dW3KT_4h"
      }
    },
    {
      "cell_type": "code",
      "source": [
        "from typing import List\n",
        "fruits : List[str] = [\"apple\", \"banana\", \"cherry\"]\n",
        "for fruit in fruits:\n",
        "    print(fruit)"
      ],
      "metadata": {
        "id": "GnyRxm77UDTC",
        "outputId": "6cb5b274-5a6b-4675-c0ac-fb6a0475d570",
        "colab": {
          "base_uri": "https://localhost:8080/"
        }
      },
      "execution_count": null,
      "outputs": [
        {
          "output_type": "stream",
          "name": "stdout",
          "text": [
            "apple\n",
            "banana\n",
            "cherry\n"
          ]
        }
      ]
    },
    {
      "cell_type": "code",
      "source": [
        "items : List[str] = [\"pen\",\"pencil\",\"eraser\",\"shopener\"]\n",
        "for item in items:\n",
        "    print(f\"Hey this is {item}\")"
      ],
      "metadata": {
        "id": "Z76ATF1BLe00",
        "outputId": "91a94200-74ef-491b-ade9-8e2b4fb1ed16",
        "colab": {
          "base_uri": "https://localhost:8080/"
        }
      },
      "execution_count": null,
      "outputs": [
        {
          "output_type": "stream",
          "name": "stdout",
          "text": [
            "Hey this is pen\n",
            "Hey this is pencil\n",
            "Hey this is eraser\n",
            "Hey this is shopener\n"
          ]
        }
      ]
    },
    {
      "cell_type": "code",
      "source": [
        "# simple for loop which print hello 5 times\n",
        "# _: A common convention in Python to indicate that the variable is unused in the loop.\n",
        "for item in range(5):\n",
        "  print(\"hello\")"
      ],
      "metadata": {
        "id": "tDmebhSxZXxa",
        "outputId": "45510031-f2c7-49e3-f34a-e8a9c9a2b881",
        "colab": {
          "base_uri": "https://localhost:8080/"
        }
      },
      "execution_count": null,
      "outputs": [
        {
          "output_type": "stream",
          "name": "stdout",
          "text": [
            "hello\n",
            "hello\n",
            "hello\n",
            "hello\n",
            "hello\n"
          ]
        }
      ]
    },
    {
      "cell_type": "markdown",
      "source": [
        "### Iterating over a string"
      ],
      "metadata": {
        "id": "a8I3w4UxUIqx"
      }
    },
    {
      "cell_type": "code",
      "source": [
        "for letter in \"Python\":\n",
        "    print(letter)"
      ],
      "metadata": {
        "id": "UiSrg0G1UK9f",
        "outputId": "339474a3-8f1a-4cb7-dc0e-9cfc8c8511e4",
        "colab": {
          "base_uri": "https://localhost:8080/"
        }
      },
      "execution_count": null,
      "outputs": [
        {
          "output_type": "stream",
          "name": "stdout",
          "text": [
            "P\n",
            "y\n",
            "t\n",
            "h\n",
            "o\n",
            "n\n"
          ]
        }
      ]
    },
    {
      "cell_type": "markdown",
      "source": [
        "### Using range() in `for` loop"
      ],
      "metadata": {
        "id": "oTR6LwFAUO6_"
      }
    },
    {
      "cell_type": "code",
      "source": [
        "value = range(5)\n",
        "print(value)"
      ],
      "metadata": {
        "id": "gtxby7BmUg-i",
        "outputId": "81f524d5-78cc-467e-a536-5c26bc86bbac",
        "colab": {
          "base_uri": "https://localhost:8080/"
        }
      },
      "execution_count": null,
      "outputs": [
        {
          "output_type": "stream",
          "name": "stdout",
          "text": [
            "range(0, 5)\n"
          ]
        }
      ]
    },
    {
      "cell_type": "code",
      "source": [
        "for i in range(5):\n",
        "    print(i)"
      ],
      "metadata": {
        "id": "XD2d5EY1URsR",
        "outputId": "478983c1-9546-42f3-f89d-27a1461e6c60",
        "colab": {
          "base_uri": "https://localhost:8080/"
        }
      },
      "execution_count": null,
      "outputs": [
        {
          "output_type": "stream",
          "name": "stdout",
          "text": [
            "0\n",
            "1\n",
            "2\n",
            "3\n",
            "4\n"
          ]
        }
      ]
    },
    {
      "cell_type": "markdown",
      "source": [
        "### Specifying a start and end in range()"
      ],
      "metadata": {
        "id": "_J-JDS1FUWaC"
      }
    },
    {
      "cell_type": "code",
      "source": [
        "for i in range(2, 6):\n",
        "    print(i)"
      ],
      "metadata": {
        "id": "OvrpwOa2UY8Y",
        "outputId": "c8b3ae60-6768-4b6c-dcd8-30aac2701ec0",
        "colab": {
          "base_uri": "https://localhost:8080/"
        }
      },
      "execution_count": null,
      "outputs": [
        {
          "output_type": "stream",
          "name": "stdout",
          "text": [
            "2\n",
            "3\n",
            "4\n",
            "5\n"
          ]
        }
      ]
    },
    {
      "cell_type": "markdown",
      "source": [
        "### Using a step in range()"
      ],
      "metadata": {
        "id": "BpGpa4XaU8Td"
      }
    },
    {
      "cell_type": "code",
      "source": [
        "for i in range(1, 10, 2):\n",
        "    print(i)"
      ],
      "metadata": {
        "id": "WyN5n5H9U9Vt",
        "outputId": "cd1ac4cb-7530-40b1-9eae-ff9111d2f851",
        "colab": {
          "base_uri": "https://localhost:8080/"
        }
      },
      "execution_count": null,
      "outputs": [
        {
          "output_type": "stream",
          "name": "stdout",
          "text": [
            "1\n",
            "3\n",
            "5\n",
            "7\n",
            "9\n"
          ]
        }
      ]
    },
    {
      "cell_type": "markdown",
      "source": [
        "### for Loop with zip()\n",
        "Iterating over two lists simultaneously"
      ],
      "metadata": {
        "id": "WKRziGDhVCrz"
      }
    },
    {
      "cell_type": "code",
      "source": [
        "from typing import List\n",
        "names : List[str] = [\"Alice\", \"Bob\", \"Charlie\"]\n",
        "ages : List[int] = [25, 30, 35]\n",
        "\n",
        "for name, age in zip(names, ages):\n",
        "    print(f\"{name} is {ages} years old\")"
      ],
      "metadata": {
        "id": "VzzFd2fwVD2w",
        "outputId": "500805fe-97cb-446b-95af-d973f9c2f177",
        "colab": {
          "base_uri": "https://localhost:8080/"
        }
      },
      "execution_count": null,
      "outputs": [
        {
          "output_type": "stream",
          "name": "stdout",
          "text": [
            "Alice is [25, 30, 35] years old\n",
            "Bob is [25, 30, 35] years old\n",
            "Charlie is [25, 30, 35] years old\n"
          ]
        }
      ]
    },
    {
      "cell_type": "code",
      "source": [
        "# zip() method\n",
        "print(zip(names,ages))\n",
        "for i in zip(names,ages):\n",
        "    print(i)\n",
        "print(type(i))"
      ],
      "metadata": {
        "id": "lkTzeMcQk7lo",
        "outputId": "0938275b-f776-4ab0-b2d8-56ebf39fc2ba",
        "colab": {
          "base_uri": "https://localhost:8080/"
        }
      },
      "execution_count": null,
      "outputs": [
        {
          "output_type": "stream",
          "name": "stdout",
          "text": [
            "<zip object at 0x7e9d4e774bc0>\n",
            "('Alice', 25)\n",
            "('Bob', 30)\n",
            "('Charlie', 35)\n",
            "<class 'tuple'>\n"
          ]
        }
      ]
    },
    {
      "cell_type": "code",
      "source": [
        "#enemerate\n",
        "for index,name in enumerate(names):\n",
        "    print(f\"{index} index and value {name}\")"
      ],
      "metadata": {
        "id": "L1rO9G8muwVk",
        "outputId": "8de7e52f-e438-403e-ecfd-7c3339af6686",
        "colab": {
          "base_uri": "https://localhost:8080/"
        }
      },
      "execution_count": null,
      "outputs": [
        {
          "output_type": "stream",
          "name": "stdout",
          "text": [
            "0 index and value Alice\n",
            "1 index and value Bob\n",
            "2 index and value Charlie\n"
          ]
        }
      ]
    },
    {
      "cell_type": "markdown",
      "source": [
        "# While Loop\n",
        "\n",
        "A `while` loop repeatedly executes a block of code **as long as a specified condition is `True`**. It's ideal when you don't know in advance how many times you need to iterate.\n",
        "\n",
        "### Syntax\n",
        "\n",
        "```python\n",
        "while condition:\n",
        "    # Code to execute\n",
        "```\n",
        "\n",
        "### Key Points\n",
        "\n",
        "- **Condition-Based:** The loop runs while the condition remains `True`.\n",
        "- **Risk of Infinite Loop:** Ensure the condition will eventually become `False` by updating variables inside the loop.\n",
        "\n",
        "### Example 1:\n"
      ],
      "metadata": {
        "id": "eRFfSlvxBZfK"
      }
    },
    {
      "cell_type": "code",
      "source": [
        "# Counting from 1 to 5 using a while loop\n",
        "counter = 1\n",
        "while counter <= 5:\n",
        "    print(counter)\n",
        "    counter += 1\n"
      ],
      "metadata": {
        "id": "f8TGNBdRBcxA",
        "outputId": "9de4c9fe-9c52-4977-b188-7e614e512bda",
        "colab": {
          "base_uri": "https://localhost:8080/"
        }
      },
      "execution_count": null,
      "outputs": [
        {
          "output_type": "stream",
          "name": "stdout",
          "text": [
            "1\n",
            "2\n",
            "3\n",
            "4\n",
            "5\n"
          ]
        }
      ]
    },
    {
      "cell_type": "markdown",
      "source": [
        "### Example 2: while Loop with a Condition. Number of iteration isn't predefined.\n",
        "You can use a while loop to keep prompting the user until they enter a valid input."
      ],
      "metadata": {
        "id": "d5yJv1T5DFry"
      }
    },
    {
      "cell_type": "code",
      "source": [
        "password = \"\"\n",
        "while password != \"Pass123\":\n",
        "    password = input(\"Enter the password: \")\n",
        "\n",
        "print(\"Access granted\")"
      ],
      "metadata": {
        "id": "tq3qXX8wDReX",
        "outputId": "5571df5c-2d99-4dae-9f9b-1787b6748a06",
        "colab": {
          "base_uri": "https://localhost:8080/"
        }
      },
      "execution_count": null,
      "outputs": [
        {
          "output_type": "stream",
          "name": "stdout",
          "text": [
            "Enter the password: 123\n",
            "Enter the password: Pass123\n",
            "Access granted\n"
          ]
        }
      ]
    },
    {
      "cell_type": "markdown",
      "source": [
        "### Example 3: Infinite while Loop\n",
        "A while loop can run indefinitely if the condition never becomes False. This is known as an infinite loop, and it will continue to run until you manually stop it or break out of it with a break statement.\n"
      ],
      "metadata": {
        "id": "QiQGVGM6C6o-"
      }
    },
    {
      "cell_type": "markdown",
      "source": [
        "# While Loop vs For Loop\n",
        "\n",
        "### Key Differences\n",
        "\n",
        "- **Usage:**\n",
        "  - **`while` loop:** Use when the number of iterations **is not known** ahead of time and depends on a condition.\n",
        "  - **`for` loop:** Use when iterating over a sequence or a range where the number of iterations **is known**.\n",
        "\n",
        "- **Control Mechanism:**\n",
        "  - **`while` loop:** Controlled by a condition.\n",
        "  - **`for` loop:** Iterates over items in a sequence (like a list, range, or string).\n",
        "\n",
        "### Syntax Comparison\n",
        "\n",
        "```python\n",
        "# while loop\n",
        "while condition:\n",
        "    # Code block\n",
        "\n",
        "# for loop\n",
        "for item in iterable:\n",
        "    # Code block\n",
        "```\n",
        "\n",
        "### Examples\n",
        "\n",
        "**Using `while` Loop:**"
      ],
      "metadata": {
        "id": "BpnjWK6GBtlD"
      }
    },
    {
      "cell_type": "code",
      "source": [
        "# Counting down from 5 to 1\n",
        "count = 5\n",
        "while count > 0:\n",
        "    print(count)\n",
        "    count -= 1"
      ],
      "metadata": {
        "id": "QrMzZ-TYCHKd"
      },
      "execution_count": null,
      "outputs": []
    },
    {
      "cell_type": "markdown",
      "source": [
        "\n",
        "**Using `for` Loop:**"
      ],
      "metadata": {
        "id": "t1gq2WZqCKMh"
      }
    },
    {
      "cell_type": "code",
      "source": [
        "# Counting down from 5 to 1\n",
        "for number in range(5, 0,-1):\n",
        "    print(number)"
      ],
      "metadata": {
        "id": "R1hr-iziCTFH"
      },
      "execution_count": null,
      "outputs": []
    },
    {
      "cell_type": "markdown",
      "source": [
        "\n",
        "### When to Use Each Loop\n",
        "\n",
        "- **Use `while` loop when:**\n",
        "  - The loop should continue until a specific condition is met.\n",
        "  - The number of iterations isn't predetermined.\n",
        "\n",
        "- **Use `for` loop when:**\n",
        "  - You need to iterate over elements in a collection or range.\n",
        "  - The number of iterations is known or can be calculated.\n",
        "\n",
        "---\n",
        "\n",
        "By understanding these differences, you can choose the loop that best fits your programming needs."
      ],
      "metadata": {
        "id": "415wLEYsB858"
      }
    },
    {
      "cell_type": "markdown",
      "source": [
        "# Python provides some statements to control the flow of loops:\n",
        "\n",
        "The continue and break statements are control flow tools in Python that allow you to alter the behavior of loops (for and while loops). They provide ways to skip iterations or exit loops prematurely based on specific conditions.\n"
      ],
      "metadata": {
        "id": "D2BuUKZaLwm7"
      }
    },
    {
      "cell_type": "markdown",
      "source": [
        "## 1. break Statement\n",
        "\n",
        "The break statement is used to exit a loop immediately, regardless of the loop’s condition. When break is encountered, the loop terminates, and the program continues with the next statement after the loop.\n",
        "\n",
        "***Use in a for Loop***\n"
      ],
      "metadata": {
        "id": "zHUgbXG9L8dx"
      }
    },
    {
      "cell_type": "code",
      "source": [
        "for i in range(1, 11):\n",
        "    if i == 5:\n",
        "        break  # Exit the loop when i is 5\n",
        "    print(i)"
      ],
      "metadata": {
        "id": "_JmiosphL-MO"
      },
      "execution_count": null,
      "outputs": []
    },
    {
      "cell_type": "markdown",
      "source": [
        "***Use in a while Loop***"
      ],
      "metadata": {
        "id": "B-6nUm6RMGac"
      }
    },
    {
      "cell_type": "code",
      "source": [
        "count = 0\n",
        "while count < 10:\n",
        "    print(count)\n",
        "    count += 1\n",
        "    if count == 5:\n",
        "        break  # Exit the loop when count is 5"
      ],
      "metadata": {
        "id": "bvbSr7r6MHdE"
      },
      "execution_count": null,
      "outputs": []
    },
    {
      "cell_type": "markdown",
      "source": [
        "## 2. continue Statement\n",
        "\n",
        "The continue statement is used to skip the current iteration of a loop and proceed with the next iteration. When continue is encountered, the loop doesn’t terminate; it just skips the remaining code in the current iteration and moves on to the next iteration.\n",
        "\n",
        "***Use in a for Loop***"
      ],
      "metadata": {
        "id": "KQZyJjs9MP-C"
      }
    },
    {
      "cell_type": "code",
      "source": [
        "for i in range(1, 6):\n",
        "    if i == 3:\n",
        "        continue  # Skip the iteration when i is 3\n",
        "    print(i)"
      ],
      "metadata": {
        "id": "3tp_UbdqMRtc"
      },
      "execution_count": null,
      "outputs": []
    },
    {
      "cell_type": "markdown",
      "source": [
        "***Use in a while Loop***"
      ],
      "metadata": {
        "id": "htKzgWjvMYGg"
      }
    },
    {
      "cell_type": "code",
      "source": [
        "count = 0\n",
        "while count < 5:\n",
        "    count += 1\n",
        "    if count == 3:\n",
        "        continue  # Skip the rest of the loop when count is 3\n",
        "    print(count)"
      ],
      "metadata": {
        "id": "Fdby0kTIMZLP"
      },
      "execution_count": null,
      "outputs": []
    },
    {
      "cell_type": "markdown",
      "source": [
        "When to Use break and continue:\n",
        "\n",
        "**break**:\n",
        "-\tExiting a loop when a certain condition is met (e.g., finding an item in a list and stopping further search).\n",
        "- Preventing infinite loops when a certain condition occurs.\n",
        "\n",
        "**continue**:\n",
        "- Skipping certain values in a loop (e.g., skipping over unwanted data or values that don’t need processing).\n",
        "- Avoiding unnecessary computations or actions within specific loop iterations.\n",
        "\n",
        "\n",
        "Both break and continue are powerful tools for managing the flow of loops, allowing you to fine-tune how and when specific blocks of code are executed.\n"
      ],
      "metadata": {
        "id": "nIzc6ix5Mgdf"
      }
    },
    {
      "cell_type": "markdown",
      "source": [
        "## Projects"
      ],
      "metadata": {
        "id": "HLFnrBk7NSLO"
      }
    },
    {
      "cell_type": "markdown",
      "source": [
        "### Project 1: Squaring a List\n",
        "\n",
        "Build a program that:\n",
        "\n",
        "- Initializes an empty list for squares.\n",
        "- Uses a for loop to iterate through numbers from 1 to 5.\n",
        "- Appends the square of each number to the list.\n",
        "- Prints the final list of squares."
      ],
      "metadata": {
        "id": "g78TeqK95pMl"
      }
    },
    {
      "cell_type": "markdown",
      "source": [
        "### Project 2: Squaring Even Numbers\n",
        "Build a program that:\n",
        "\n",
        "- Initializes an empty list for squares.\n",
        "- Uses a for loop to iterate through numbers from 1 to 10.\n",
        "- Checks if the number is divisible by 2 (remainder equals zero).\n",
        "- Appends the square of the number to the list if the condition is met.\n",
        "- Prints the final list of squares."
      ],
      "metadata": {
        "id": "KXkRRacVFla2"
      }
    },
    {
      "cell_type": "markdown",
      "source": [
        "### Project 3: Automated Invitation System\n",
        "Write a Python program that:\n",
        "- Takes a list of friend names.\n",
        "- Uses a `for` loop to send a personalized invitation message to each friend.\n"
      ],
      "metadata": {
        "id": "cFCgv3I1NUZG"
      }
    },
    {
      "cell_type": "markdown",
      "source": [
        "### Project 4: Password Checker\n",
        "Develop a program using a `while` loop that:\n",
        "- Continuously prompts the user to enter a password.\n",
        "- Displays an error message for incorrect attempts.\n",
        "- Grants access when the correct password is entered.\n"
      ],
      "metadata": {
        "id": "bEo9V24yNYHp"
      }
    },
    {
      "cell_type": "markdown",
      "source": [
        "### Project 5: Number Analysis\n",
        "Create a program that:\n",
        "- Asks the user to input a range of numbers.\n",
        "- Uses a `for` loop to calculate the sum of all even numbers in the range.\n",
        "- Skips numbers divisible by 5 using the `continue` statement.\n"
      ],
      "metadata": {
        "id": "yREvT5d-Na_T"
      }
    },
    {
      "cell_type": "markdown",
      "source": [
        "### Project 6: Countdown Timer\n",
        "Write a Python script that:\n",
        "- Uses a `while` loop to implement a countdown timer.\n",
        "- Counts down from a user-defined number to zero.\n",
        "- Prints a message when the countdown reaches zero.\n"
      ],
      "metadata": {
        "id": "BdfKSSZuNe_J"
      }
    },
    {
      "cell_type": "markdown",
      "source": [
        "### Project 7: Multiplication Table\n",
        "Build a program that:\n",
        "- Prompts the user for a number.\n",
        "- Uses a `for` loop to display its multiplication table up to 10.\n",
        "- Formats the output neatly.\n"
      ],
      "metadata": {
        "id": "MCOHpK6uNgHj"
      }
    }
  ]
}