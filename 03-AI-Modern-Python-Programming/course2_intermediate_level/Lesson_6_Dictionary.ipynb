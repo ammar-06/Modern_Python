{
  "cells": [
    {
      "cell_type": "markdown",
      "id": "022e08bc",
      "metadata": {
        "id": "022e08bc"
      },
      "source": [
        "# Introduction to Dictionaries in Python\n",
        "\n",
        "## What is a Dictionary?\n",
        "\n",
        "Dictionary, a data structure in Python, is a collection of *key-value pairs*, where each *key is unique*, and each key is associated with a specific value. Unlike other data structures in Python, like lists or sets, *dictionaries are unordered*, meaning that the items are not stored in any particular sequence.\n",
        "\n",
        "Dictionary enable the association of values with unique keys, providing a way to store and retrieve information using meaningful identifiers. Dictionaries are particularly valuable when there is a need for fast data access and retrieval based on specific keys. They are versatile and widely used in scenarios where data needs to be stored and accessed in a structured manner.\n",
        "\n",
        "## Why Do We Need Dictionaries?\n",
        "\n",
        "### The Problem: Efficient Data Lookups\n",
        "\n",
        "Consider a scenario where you are managing a collection of student scores in different subjects. Initially,  might think of using two separate lists. One for student names and one for their corresponding scores:\n",
        "\n",
        "\n",
        "\n"
      ]
    },
    {
      "cell_type": "code",
      "execution_count": 1,
      "id": "d6b037a2",
      "metadata": {
        "id": "d6b037a2"
      },
      "outputs": [],
      "source": [
        "students : list[str ]= [\"Alice\", \"Bob\", \"Charlie\"]\n",
        "scores : list[int] = [85, 92, 78]"
      ]
    },
    {
      "cell_type": "markdown",
      "id": "9b1d5a90",
      "metadata": {
        "id": "9b1d5a90"
      },
      "source": [
        "\n",
        "To find the score of a specific student,  would need to first find the index of the student's name in the `students` list and then use that index to look up the score in the `scores` list:\n",
        "\n",
        "\n",
        "\n"
      ]
    },
    {
      "cell_type": "code",
      "execution_count": 4,
      "id": "03ee09bd",
      "metadata": {
        "id": "03ee09bd",
        "outputId": "4b402fc4-17ab-484c-e4b4-a470c3a97de9",
        "colab": {
          "base_uri": "https://localhost:8080/"
        }
      },
      "outputs": [
        {
          "output_type": "stream",
          "name": "stdout",
          "text": [
            "1\n",
            "92\n"
          ]
        }
      ],
      "source": [
        "index : int = students.index(\"Bob\")# 1\n",
        "print(index)\n",
        "score : int = scores[index]\n",
        "print(score)\n",
        "\n"
      ]
    },
    {
      "cell_type": "code",
      "source": [
        "students_score = {\n",
        "    \"Alice\": 85,\n",
        "    \"Bob\": 92,\n",
        "    \"Charlie\": 78\n",
        "}\n",
        "print(students_score[\"Bob\"])"
      ],
      "metadata": {
        "id": "0nHDp-628VHg",
        "outputId": "abc61d38-6fcd-46a4-f1c0-11efbf30bef0",
        "colab": {
          "base_uri": "https://localhost:8080/"
        }
      },
      "id": "0nHDp-628VHg",
      "execution_count": 7,
      "outputs": [
        {
          "output_type": "stream",
          "name": "stdout",
          "text": [
            "92\n"
          ]
        }
      ]
    },
    {
      "cell_type": "markdown",
      "id": "93188425",
      "metadata": {
        "id": "93188425"
      },
      "source": [
        "While this approach works, it quickly becomes inefficient as the lists grow in size. Searching for a student's name in the list takes time, and managing two separate lists can lead to errors, especially if they become out of sync.\n",
        "\n",
        "### The Solution: Constant-Time Lookups with Dictionaries\n",
        "\n",
        "Dictionaries provide a more efficient and intuitive way to handle this situation. By using student names as keys and their scores as values,  can store the data in a dictionary:\n",
        "\n",
        "\n",
        "\n"
      ]
    },
    {
      "cell_type": "code",
      "execution_count": 8,
      "id": "3bc21054",
      "metadata": {
        "id": "3bc21054"
      },
      "outputs": [],
      "source": [
        "students_scores : dict[str,int] = {\n",
        "    \"Alice\": 85,\n",
        "    \"Bob\": 92,\n",
        "    \"Charlie\": 78,\n",
        "    \"Alice\":75\n",
        "}"
      ]
    },
    {
      "cell_type": "markdown",
      "id": "6ee84445",
      "metadata": {
        "id": "6ee84445"
      },
      "source": [
        "\n",
        "Now, finding a student's score is much simpler and faster:\n",
        "\n",
        "\n"
      ]
    },
    {
      "cell_type": "code",
      "execution_count": 9,
      "id": "e6f73536",
      "metadata": {
        "id": "e6f73536",
        "outputId": "e094e0f0-5930-4d63-c652-3a177001b286",
        "colab": {
          "base_uri": "https://localhost:8080/"
        }
      },
      "outputs": [
        {
          "output_type": "stream",
          "name": "stdout",
          "text": [
            "75\n"
          ]
        }
      ],
      "source": [
        "score : int = students_scores[\"Alice\"]\n",
        "print(score)"
      ]
    },
    {
      "cell_type": "code",
      "execution_count": 10,
      "id": "0fbf0b36",
      "metadata": {
        "id": "0fbf0b36",
        "outputId": "4475e7e3-b004-46a5-8570-cb3b80edc1f6",
        "colab": {
          "base_uri": "https://localhost:8080/"
        }
      },
      "outputs": [
        {
          "output_type": "stream",
          "name": "stdout",
          "text": [
            "{'Alice': 75, 'Bob': 92, 'Charlie': 78}\n",
            "3\n"
          ]
        }
      ],
      "source": [
        "print(students_scores)\n",
        "print(len(students_scores))"
      ]
    },
    {
      "cell_type": "markdown",
      "id": "842720da",
      "metadata": {
        "id": "842720da"
      },
      "source": [
        "This operation is performed in constant time, regardless of the number of students. Because of the direct indexing mechanism provided by the hash function\n",
        "\n",
        "## What Problems Do Dictionaries Solve?\n",
        "\n",
        "### 1. Fast Data Retrieval\n",
        "\n",
        "Dictionaries are optimized for fast data retrieval. Instead of searching through an entire list,  can quickly access any value directly by its key.\n",
        "\n",
        "### 2. Clearer, More Expressive Code\n",
        "\n",
        "Dictionaries allow us to write clearer and more expressive code. The key-value structure makes it obvious what each item represents, improving code readability.\n",
        "\n",
        "### 3. Flexibility in Data Organization\n",
        "\n",
        "Dictionaries offer flexibility in how  organize data can store complex structures, like lists or other dictionaries, as values, enabling us to represent nested or hierarchical data.\n",
        "\n",
        "## Working with Dictionaries in Python\n",
        "\n",
        "### Important Properties\n",
        "- Each key should be unique\n",
        "- Key can be any immutable type of object\n",
        "- `len()` function also works with dictionaries i.e. returns the length of key-value pairs\n",
        "- A dictionary is a one way tool i.e. We can find the value from key but cannot find the key from value. It works the same way as original dictionary.We can find urdu meaning of word in english but not the english meaning of urdu word.\n",
        "- The dictionaries are not ordered. We might have different orders when we use `print()` function. Dictionaries preserve the insertion order\n",
        "- Dictionaries are not a sequence type. So can we use for loop with dictionaries? Yes! We'll see it in below examples.\n",
        "- Not sequential like list and tuple but iterable object.\n",
        "\n",
        "### Creating a Dictionary\n",
        "\n",
        " can create a dictionary using curly braces `{}` or the `dict()` function.\n",
        "\n",
        "\n"
      ]
    },
    {
      "cell_type": "code",
      "execution_count": null,
      "id": "eaa3eda7",
      "metadata": {
        "id": "eaa3eda7",
        "outputId": "b8960626-8aa2-470b-9db5-07c7da4e1325",
        "colab": {
          "base_uri": "https://localhost:8080/"
        }
      },
      "outputs": [
        {
          "output_type": "stream",
          "name": "stdout",
          "text": [
            "{'Bob': 92, 'Charlie': 78, 'Alice': 85}\n"
          ]
        }
      ],
      "source": [
        "# Using curly braces\n",
        "students_scores : dict[str, int] = {\n",
        "    \"Bob\": 92,\n",
        "    \"Charlie\": 78,\n",
        "     \"Alice\": 85,\n",
        "}\n",
        "print(students_scores)"
      ]
    },
    {
      "cell_type": "code",
      "source": [
        "students_age : dict[str,int] = {\n",
        "    \"Ammar\": 19, \"Ashan\":20, \"Ali\":21\n",
        "}\n",
        "print(students_age)"
      ],
      "metadata": {
        "id": "y4t3kpP1k5FH",
        "outputId": "31d9fd26-4a18-471c-c050-e2942eb31d79",
        "colab": {
          "base_uri": "https://localhost:8080/"
        }
      },
      "id": "y4t3kpP1k5FH",
      "execution_count": 11,
      "outputs": [
        {
          "output_type": "stream",
          "name": "stdout",
          "text": [
            "{'Ammar': 19, 'Ashan': 20, 'Ali': 21}\n"
          ]
        }
      ]
    },
    {
      "cell_type": "code",
      "execution_count": 15,
      "id": "8d3960cd",
      "metadata": {
        "id": "8d3960cd",
        "outputId": "7e2eb231-30d4-4c78-c162-ff4ef40c80ab",
        "colab": {
          "base_uri": "https://localhost:8080/"
        }
      },
      "outputs": [
        {
          "output_type": "stream",
          "name": "stdout",
          "text": [
            "{'Ali': 80, 'Bob': 90, 'Charlie': 70}\n"
          ]
        }
      ],
      "source": [
        "# Using dict() function\n",
        "students_scores : dict[str,int] = dict(Ali=80, Bob=90, Charlie=70)\n",
        "print(students_scores)\n",
        "\n",
        "# list1 = list((1,2,3,4,5))\n",
        "# print(list1)\n",
        "\n"
      ]
    },
    {
      "cell_type": "markdown",
      "id": "0075710a",
      "metadata": {
        "id": "0075710a"
      },
      "source": [
        "## Accessing Values\n",
        "can access values in a dictionary using the key inside square brackets `[]` or with the `.get()` method.\n",
        "\n",
        "#### Example:\n",
        "\n"
      ]
    },
    {
      "cell_type": "code",
      "execution_count": 17,
      "id": "cf0f5768",
      "metadata": {
        "id": "cf0f5768",
        "outputId": "be9d4f3a-faba-4724-897e-b05359be80fa",
        "colab": {
          "base_uri": "https://localhost:8080/"
        }
      },
      "outputs": [
        {
          "output_type": "stream",
          "name": "stdout",
          "text": [
            "80\n",
            "value not found\n"
          ]
        }
      ],
      "source": [
        "# Accessing a value using a key\n",
        "print(students_scores[\"Ali\"])  # Output: 80\n",
        "\n",
        "# # Using the get() method\n",
        "print(students_scores.get(\"Alii\",\"value not found\"))"
      ]
    },
    {
      "cell_type": "markdown",
      "id": "0ed6aef5",
      "metadata": {
        "id": "0ed6aef5"
      },
      "source": [
        "#### Handling Missing Keys\n",
        "The `.get()` method is safer for accessing keys, as it returns `None` or a default value if the key is not found, rather than raising a `KeyError`.\n",
        "\n",
        "#### Example:\n",
        "\n"
      ]
    },
    {
      "cell_type": "code",
      "execution_count": 18,
      "id": "9c157973",
      "metadata": {
        "id": "9c157973",
        "outputId": "35f0d7e7-46f7-4dfa-d17d-f0c34407d7ef",
        "colab": {
          "base_uri": "https://localhost:8080/"
        }
      },
      "outputs": [
        {
          "output_type": "stream",
          "name": "stdout",
          "text": [
            "Not Found\n"
          ]
        }
      ],
      "source": [
        "# Using square brackets (raises KeyError if key is not found)\n",
        "# print(student_scores[\"David\"])  # Uncommenting this line would raise KeyError\n",
        "\n",
        "# Using get() (returns None if key is not found)\n",
        "# print(students_scores.get(\"David\"))  # Output: None\n",
        "\n",
        "# Providing a default value with get()\n",
        "print(students_scores.get(\"David\", \"Not Found\"))  # Output: Not Found"
      ]
    },
    {
      "cell_type": "markdown",
      "id": "c39a1e7c",
      "metadata": {
        "id": "c39a1e7c"
      },
      "source": [
        "# Adding and Updating Items\n",
        "\n",
        " can add a new key-value pair or update an existing one using square brackets `[]`.\n",
        "\n",
        "#### Example:\n",
        "\n"
      ]
    },
    {
      "cell_type": "code",
      "execution_count": 22,
      "id": "7b60ad0c",
      "metadata": {
        "id": "7b60ad0c",
        "outputId": "15a22fa0-80dc-4234-b1bc-cf0528b24d91",
        "colab": {
          "base_uri": "https://localhost:8080/"
        }
      },
      "outputs": [
        {
          "output_type": "stream",
          "name": "stdout",
          "text": [
            "{'Ali': 80, 'Bob': 90, 'Charlie': 70, 'David': 88, 'Alice': 99, 'Ammar': 100}\n",
            "{'Ali': 80, 'Bob': 90, 'Charlie': 70, 'David': 88, 'Alice': 99, 'Ammar': 100}\n",
            "{'Ali': 99, 'Bob': 90, 'Charlie': 70, 'David': 88, 'Alice': 99, 'Ammar': 100}\n"
          ]
        }
      ],
      "source": [
        "# Adding a new key-value pair\n",
        "print(students_scores)\n",
        "students_scores[\"David\"] = 88\n",
        "students_scores[\"Ammar\"]= 100\n",
        "print(students_scores)\n",
        "\n",
        "# Updating an existing key-value pair\n",
        "students_scores[\"Ali\"] = 99\n",
        "print(students_scores)\n"
      ]
    },
    {
      "cell_type": "markdown",
      "id": "21c3992b",
      "metadata": {
        "id": "21c3992b"
      },
      "source": [
        "## Removing Items\n",
        "\n",
        " can remove items using the `del` statement, the `.pop()` method, or the `.popitem()` method.\n",
        "\n",
        "#### Example:\n",
        "\n"
      ]
    },
    {
      "cell_type": "code",
      "execution_count": 23,
      "id": "e9d128b4",
      "metadata": {
        "id": "e9d128b4",
        "outputId": "4686db80-7aba-43ae-bbbe-bd14f040247f",
        "colab": {
          "base_uri": "https://localhost:8080/"
        }
      },
      "outputs": [
        {
          "output_type": "stream",
          "name": "stdout",
          "text": [
            "{'Ali': 99, 'Bob': 90, 'David': 88, 'Alice': 99, 'Ammar': 100}\n"
          ]
        }
      ],
      "source": [
        "# Removing a specific key-value pair using del\n",
        "del students_scores[\"Charlie\"]\n",
        "print(students_scores)"
      ]
    },
    {
      "cell_type": "code",
      "execution_count": 24,
      "id": "0a096d1d",
      "metadata": {
        "id": "0a096d1d",
        "outputId": "f9420932-433b-45cd-cbdf-ee8049d3bd4f",
        "colab": {
          "base_uri": "https://localhost:8080/"
        }
      },
      "outputs": [
        {
          "output_type": "stream",
          "name": "stdout",
          "text": [
            "88\n",
            "{'Ali': 99, 'Bob': 90, 'Alice': 99, 'Ammar': 100}\n"
          ]
        }
      ],
      "source": [
        "# Removing a specific key-value pair using pop()\n",
        "removed_score = students_scores.pop(\"David\") # removed_score contains only value\n",
        "print(removed_score)\n",
        "print(students_scores)"
      ]
    },
    {
      "cell_type": "code",
      "execution_count": 26,
      "id": "f3e78f0c",
      "metadata": {
        "id": "f3e78f0c",
        "outputId": "96470c82-83c5-4e06-e0c8-000e31d0a20d",
        "colab": {
          "base_uri": "https://localhost:8080/"
        }
      },
      "outputs": [
        {
          "output_type": "stream",
          "name": "stdout",
          "text": [
            "('Alice', 99)\n",
            "{'Ali': 99, 'Bob': 90}\n"
          ]
        }
      ],
      "source": [
        "# Removing the last inserted key-value pair using popitem()\n",
        "last_item = students_scores.popitem() # last_item contains key-value and convert to tuple\n",
        "print(last_item)\n",
        "print(students_scores)\n"
      ]
    },
    {
      "cell_type": "markdown",
      "id": "1fbeada8",
      "metadata": {
        "id": "1fbeada8"
      },
      "source": [
        "## Checking if a Key Exists\n",
        "\n",
        " can check if a key exists in a dictionary using the `in` keyword.\n",
        "\n",
        "#### Example:\n",
        "\n"
      ]
    },
    {
      "cell_type": "code",
      "execution_count": 28,
      "id": "905e45cf",
      "metadata": {
        "id": "905e45cf",
        "outputId": "76ba9f35-ec30-4163-a98c-4a4a9fc9c983",
        "colab": {
          "base_uri": "https://localhost:8080/"
        }
      },
      "outputs": [
        {
          "output_type": "stream",
          "name": "stdout",
          "text": [
            "False\n",
            "False\n",
            "True\n"
          ]
        }
      ],
      "source": [
        "print(\"Alice\" in students_scores)\n",
        "print(\"Charlie\" in students_scores)\n",
        "print( \"Ali\" in students_scores)\n"
      ]
    },
    {
      "cell_type": "markdown",
      "id": "f583a5ba",
      "metadata": {
        "id": "f583a5ba"
      },
      "source": [
        "## Iterating Through a Dictionary\n",
        "\n",
        "We can iterate through the keys, values, or key-value pairs in a dictionary using a `for` loop.\n",
        "\n",
        "\n",
        "### Example:\n",
        "\n"
      ]
    },
    {
      "cell_type": "code",
      "execution_count": 29,
      "id": "ab0e4231",
      "metadata": {
        "id": "ab0e4231"
      },
      "outputs": [],
      "source": [
        "students_scores : dict[str,int] = {\n",
        "    \"Alice\": 85,\n",
        "    \"Bob\": 92,\n",
        "    \"Charlie\": 78\n",
        "}"
      ]
    },
    {
      "cell_type": "code",
      "execution_count": 32,
      "id": "f35deed4",
      "metadata": {
        "id": "f35deed4",
        "outputId": "172cc248-510b-4752-f092-693b053e618e",
        "colab": {
          "base_uri": "https://localhost:8080/"
        }
      },
      "outputs": [
        {
          "output_type": "stream",
          "name": "stdout",
          "text": [
            "Alice\n",
            "Bob\n",
            "Charlie\n"
          ]
        }
      ],
      "source": [
        "# Iterating through keys\n",
        "for student in students_scores.keys():\n",
        "    print(student)"
      ]
    },
    {
      "cell_type": "code",
      "execution_count": 33,
      "id": "11451e37",
      "metadata": {
        "id": "11451e37",
        "outputId": "f0533915-c3bc-4ab2-8dd9-90cda4ea75a1",
        "colab": {
          "base_uri": "https://localhost:8080/"
        }
      },
      "outputs": [
        {
          "output_type": "stream",
          "name": "stdout",
          "text": [
            "85\n",
            "92\n",
            "78\n"
          ]
        }
      ],
      "source": [
        "# Iterating through values\n",
        "for score in students_scores.values():\n",
        "    print(score)"
      ]
    },
    {
      "cell_type": "code",
      "execution_count": 37,
      "id": "80594672",
      "metadata": {
        "id": "80594672",
        "outputId": "6e1bd794-4812-4344-a765-aee3b8eeee21",
        "colab": {
          "base_uri": "https://localhost:8080/"
        }
      },
      "outputs": [
        {
          "output_type": "stream",
          "name": "stdout",
          "text": [
            "Alice:85\n",
            "Bob:92\n",
            "Charlie:78\n"
          ]
        }
      ],
      "source": [
        "# Iterating through key-value pairs\n",
        "for std, scr in students_scores.items():\n",
        "    print(f\"{std}:{scr}\")"
      ]
    },
    {
      "cell_type": "code",
      "source": [
        "# Iterating through key-value pairs\n",
        "for student in students_scores.items():\n",
        "    print(f\"{student}\")"
      ],
      "metadata": {
        "id": "Ki999TlQKPfh",
        "outputId": "861ae89c-51a9-4b2d-eb72-ce8a5065a35b",
        "colab": {
          "base_uri": "https://localhost:8080/"
        }
      },
      "id": "Ki999TlQKPfh",
      "execution_count": 39,
      "outputs": [
        {
          "output_type": "stream",
          "name": "stdout",
          "text": [
            "('Alice', 85)\n",
            "('Bob', 92)\n",
            "('Charlie', 78)\n"
          ]
        }
      ]
    },
    {
      "cell_type": "code",
      "source": [
        "# [i for i in dir(students_scores) if \"__\" not in i]"
      ],
      "metadata": {
        "id": "rcLzSDq2QdlQ"
      },
      "id": "rcLzSDq2QdlQ",
      "execution_count": 40,
      "outputs": []
    },
    {
      "cell_type": "markdown",
      "id": "fd30457d",
      "metadata": {
        "id": "fd30457d"
      },
      "source": [
        "## Dictionary Methods\n",
        "\n",
        "#### 1. `.keys()` Method\n",
        "Returns a view object that displays a list of all the keys in the dictionary.\n",
        "\n",
        "*Example:*\n",
        "\n",
        "\n"
      ]
    },
    {
      "cell_type": "code",
      "execution_count": 41,
      "id": "779d3d87",
      "metadata": {
        "id": "779d3d87",
        "outputId": "455f587b-f7f7-4835-abc1-1ea91997196b",
        "colab": {
          "base_uri": "https://localhost:8080/"
        }
      },
      "outputs": [
        {
          "output_type": "stream",
          "name": "stdout",
          "text": [
            "dict_keys(['Alice', 'Bob', 'Charlie'])\n",
            "<class 'dict_keys'>\n"
          ]
        }
      ],
      "source": [
        "keys = students_scores.keys()\n",
        "print(keys)\n",
        "print(type(keys))"
      ]
    },
    {
      "cell_type": "markdown",
      "id": "ac78cc09",
      "metadata": {
        "id": "ac78cc09"
      },
      "source": [
        "#### 2. `.values()` Method\n",
        "Returns a view object that displays a list of all the values in the dictionary.\n",
        "\n",
        "*Example:*\n",
        "\n"
      ]
    },
    {
      "cell_type": "code",
      "execution_count": 42,
      "id": "95ea4997",
      "metadata": {
        "id": "95ea4997",
        "outputId": "2cc86005-f36b-48fe-918d-2291f06956d6",
        "colab": {
          "base_uri": "https://localhost:8080/"
        }
      },
      "outputs": [
        {
          "output_type": "stream",
          "name": "stdout",
          "text": [
            "dict_values([85, 92, 78])\n",
            "<class 'dict_values'>\n"
          ]
        }
      ],
      "source": [
        "values = students_scores.values()\n",
        "print(values)\n",
        "print(type(values))"
      ]
    },
    {
      "cell_type": "markdown",
      "id": "efc2eafe",
      "metadata": {
        "id": "efc2eafe"
      },
      "source": [
        "#### 3. `.items()` Method\n",
        "Returns a view object that displays a list of the dictionary’s key-value tuple pairs.\n",
        "\n",
        "*Example:*\n",
        "\n",
        "\n"
      ]
    },
    {
      "cell_type": "code",
      "execution_count": 43,
      "id": "cc7a9cfb",
      "metadata": {
        "id": "cc7a9cfb",
        "outputId": "0c4c797f-b427-481d-e129-8dd164ad5d2d",
        "colab": {
          "base_uri": "https://localhost:8080/"
        }
      },
      "outputs": [
        {
          "output_type": "stream",
          "name": "stdout",
          "text": [
            "dict_items([('Alice', 85), ('Bob', 92), ('Charlie', 78)])\n",
            "<class 'dict_items'>\n"
          ]
        }
      ],
      "source": [
        "items = students_scores.items()\n",
        "print(items)\n",
        "print(type(items))"
      ]
    },
    {
      "cell_type": "markdown",
      "id": "cc349569",
      "metadata": {
        "id": "cc349569"
      },
      "source": [
        "#### 4. `.update()` Method\n",
        "Updates the dictionary with elements from another dictionary or from an iterable of key-value pairs.\n",
        "\n",
        "*Example:*\n",
        "\n"
      ]
    },
    {
      "cell_type": "code",
      "execution_count": 44,
      "id": "210e9cda",
      "metadata": {
        "id": "210e9cda",
        "outputId": "fe5f9b52-1816-44d1-ffa3-724b80e4c3e9",
        "colab": {
          "base_uri": "https://localhost:8080/"
        }
      },
      "outputs": [
        {
          "output_type": "stream",
          "name": "stdout",
          "text": [
            "{'Alice': 85, 'Bob': 92, 'Charlie': 78, 'Eve': 95, 'Frank': 87}\n"
          ]
        }
      ],
      "source": [
        "additional_scores = {\"Eve\": 95, \"Frank\": 87}\n",
        "students_scores.update(additional_scores)\n",
        "print(students_scores)"
      ]
    },
    {
      "cell_type": "markdown",
      "id": "4ccf3fb4",
      "metadata": {
        "id": "4ccf3fb4"
      },
      "source": [
        "#### 5. `.clear()` Method\n",
        "Removes all items from the dictionary.\n",
        "\n",
        "*Example:*\n",
        "\n"
      ]
    },
    {
      "cell_type": "code",
      "execution_count": 45,
      "id": "0e0e85b7",
      "metadata": {
        "id": "0e0e85b7",
        "outputId": "555553fa-2343-494f-a1c4-b73eb064b5ad",
        "colab": {
          "base_uri": "https://localhost:8080/"
        }
      },
      "outputs": [
        {
          "output_type": "stream",
          "name": "stdout",
          "text": [
            "{}\n"
          ]
        }
      ],
      "source": [
        "students_scores.clear()\n",
        "print(students_scores)"
      ]
    },
    {
      "cell_type": "markdown",
      "id": "11a78e9b",
      "metadata": {
        "id": "11a78e9b"
      },
      "source": [
        "#### 5. `.copy()` Method\n",
        "\n"
      ]
    },
    {
      "cell_type": "code",
      "execution_count": 46,
      "id": "49883869",
      "metadata": {
        "id": "49883869",
        "outputId": "9b13706c-d605-4702-b659-9cb30894f1b0",
        "colab": {
          "base_uri": "https://localhost:8080/"
        }
      },
      "outputs": [
        {
          "output_type": "stream",
          "name": "stdout",
          "text": [
            "134333253720128\n",
            "134333253720128\n",
            "{'Alice': 85, 'Bob': 92, 'Charlie': 78}\n"
          ]
        }
      ],
      "source": [
        "students_scores : dict[str,int] = {\n",
        "    \"Alice\": 85,\n",
        "    \"Bob\": 92,\n",
        "    \"Charlie\": 78\n",
        "}\n",
        "new = students_scores\n",
        "print(id(new))\n",
        "print(id(students_scores))\n",
        "print(new)"
      ]
    },
    {
      "cell_type": "code",
      "execution_count": 47,
      "id": "ec303d4e",
      "metadata": {
        "id": "ec303d4e",
        "outputId": "59b4fc90-dcd1-4e5f-e481-ae9b1bf441c2",
        "colab": {
          "base_uri": "https://localhost:8080/"
        }
      },
      "outputs": [
        {
          "output_type": "stream",
          "name": "stdout",
          "text": [
            "{'Alice': 85, 'Bob': 92, 'Charlie': 78}\n"
          ]
        }
      ],
      "source": [
        "students_scores_copy = students_scores.copy()\n",
        "print(students_scores_copy)"
      ]
    },
    {
      "cell_type": "code",
      "source": [
        "print(id(students_scores))\n",
        "print(id(students_scores_copy))"
      ],
      "metadata": {
        "id": "H7j3cHIqR1fN",
        "outputId": "00ed1f20-1215-43a3-df24-0823ef62d4d7",
        "colab": {
          "base_uri": "https://localhost:8080/"
        }
      },
      "id": "H7j3cHIqR1fN",
      "execution_count": 48,
      "outputs": [
        {
          "output_type": "stream",
          "name": "stdout",
          "text": [
            "134333253720128\n",
            "134333516577792\n"
          ]
        }
      ]
    },
    {
      "cell_type": "markdown",
      "id": "57b55704",
      "metadata": {
        "id": "57b55704"
      },
      "source": [
        "## Dictionary Comprehension\n",
        "We can also apply comprehension method on dictionaries.\n",
        "\n",
        "*Example:*\n",
        "\n"
      ]
    },
    {
      "cell_type": "code",
      "execution_count": 49,
      "id": "b818c9e9",
      "metadata": {
        "id": "b818c9e9",
        "outputId": "50456394-96a2-4d2c-f4e4-9892be1a94c5",
        "colab": {
          "base_uri": "https://localhost:8080/"
        }
      },
      "outputs": [
        {
          "output_type": "stream",
          "name": "stdout",
          "text": [
            "{0: 0, 1: 2, 2: 4, 3: 6, 4: 8}\n"
          ]
        }
      ],
      "source": [
        "\n",
        "values : dict[int,int] = {x:x*2 for x in range(5)}\n",
        "print(values)"
      ]
    },
    {
      "cell_type": "markdown",
      "id": "5cc8137a",
      "metadata": {
        "id": "5cc8137a"
      },
      "source": [
        "*Example:*\n",
        "\n"
      ]
    },
    {
      "cell_type": "code",
      "execution_count": 50,
      "id": "b425e12c",
      "metadata": {
        "id": "b425e12c",
        "outputId": "f0ddbb6a-46de-4f49-b3d7-0c0d3e526991",
        "colab": {
          "base_uri": "https://localhost:8080/"
        }
      },
      "outputs": [
        {
          "output_type": "stream",
          "name": "stdout",
          "text": [
            "{0: 'apple', 1: 'banana', 2: 'orange'}\n"
          ]
        }
      ],
      "source": [
        "# convert list into dictionary\n",
        "fruits : list[str] = [\"apple\", \"banana\", \"orange\"]\n",
        "# list1 = [1,2,3,4,5]\n",
        "# list_comp = [i*2 for i in list1]\n",
        "# print(list_comp)\n",
        "# for i, fruit in enumerate(fruits):\n",
        "#     print(i,fruit)\n",
        "\n",
        "fruits_dict : dict[int,str] = {i:fruit for i, fruit in enumerate(fruits)}\n",
        "                            # index: value {0:\"apple\",1:\"banana\"}\n",
        "print(fruits_dict)"
      ]
    },
    {
      "cell_type": "markdown",
      "id": "b655de0e",
      "metadata": {
        "id": "b655de0e"
      },
      "source": [
        "## Projects\n",
        "\n",
        "### Project 1: Student Gradebook\n",
        "\n",
        "#### **Write a program to :**\n",
        "- Create a dictionary to store student names as keys and their grades as values.\n",
        "- Allow the user to input new student-grade pairs and update existing entries.\n",
        "\n",
        "#### **Breakdown into step by step:**\n",
        "1. **Initialize an empty dictionary** to store student names (keys) and their grades (values).\n",
        "\n",
        "2. **Create a loop** to continuously allow the user to input data until they choose to stop.\n",
        "  - 1. Add or Update a student\n",
        "  - 2. View all students and grades\n",
        "  - 3. Exit\n",
        "\n",
        "3. **Prompt the user** to enter a student's name.\n",
        "\n",
        "4. **Check if the name is already in the dictionary:**\n",
        "   - **If it is**, then update the grade and update the dictionary.\n",
        "   - **If not**, then add the grade and add into the dictionary.\n",
        "\n",
        "5. **Ask the user** if they want to add another student or update another grade.\n",
        "\n",
        "### Project 2: Employee Directory\n",
        "Build a program to:\n",
        "- Create a dictionary with employee IDs as keys and their names as values.\n",
        "- Add functionalities to search, add, and delete employees.\n",
        "\n"
      ]
    },
    {
      "cell_type": "code",
      "source": [
        "student_names : dict [str,int]={}\n",
        "\n",
        "while True:\n",
        "    print(\"\\nOptions:\")\n",
        "    print(\"1. Add/Update a student grade\")\n",
        "    print(\"2. View all students and grades\")\n",
        "    print(\"3. Exit\")\n",
        "    option = input(\"Enter your choice (1/2/3): \")\n",
        "    if option == \"1\":\n",
        "\n",
        "     name = input(\"Enter Student name : \")\n",
        "     if name in student_names:\n",
        "      print(f\"{name} already exists. Current grade is {student_names[name]}\")\n",
        "      new_grade = int(input(\"Enter the new grade\"))\n",
        "      student_names[name] = new_grade\n",
        "      print(f\"{name}'s grade has been updated to {new_grade}\")\n",
        "\n",
        "     else:\n",
        "      new_grade = int(input(f\"Enter the grade for {name} : \"))\n",
        "      student_names[name] = new_grade\n",
        "      print(f\"{name} has been added with grade {new_grade}\")\n",
        "\n",
        "    elif option == \"2\":\n",
        "      if student_names:\n",
        "       print(\"\\nStudents names and Grades:\")\n",
        "       for student,grade in student_names.items():\n",
        "        print(f\"{student}:{grade}\")\n",
        "      else:\n",
        "       print(\"No students Currently added\")\n",
        "\n",
        "    elif option ==\"3\":\n",
        "     print(\"Exiting The program . . .\")\n",
        "     break\n",
        "\n",
        "else:\n",
        "  print(\"Invalid option. Please try again.\")\n",
        "\n",
        "\n",
        "\n",
        "\n",
        "\n",
        "\n"
      ],
      "metadata": {
        "id": "Iv9smUkyp1-R",
        "outputId": "bc6ca718-ca95-4e91-ccac-3d3b93491a73",
        "colab": {
          "base_uri": "https://localhost:8080/"
        }
      },
      "id": "Iv9smUkyp1-R",
      "execution_count": 68,
      "outputs": [
        {
          "output_type": "stream",
          "name": "stdout",
          "text": [
            "\n",
            "Options:\n",
            "1. Add/Update a student grade\n",
            "2. View all students and grades\n",
            "3. Exit\n",
            "Enter your choice (1/2/3): 1\n",
            "Enter Student name : Ammar\n",
            "Enter the grade for Ammar : 75\n",
            "Ammar has been added with grade 75\n",
            "\n",
            "Options:\n",
            "1. Add/Update a student grade\n",
            "2. View all students and grades\n",
            "3. Exit\n",
            "Enter your choice (1/2/3): 2\n",
            "\n",
            "Students names and Grades:\n",
            "Ammar:75\n",
            "\n",
            "Options:\n",
            "1. Add/Update a student grade\n",
            "2. View all students and grades\n",
            "3. Exit\n",
            "Enter your choice (1/2/3): 3\n",
            "Exiting The program . . .\n"
          ]
        }
      ]
    }
  ],
  "metadata": {
    "colab": {
      "provenance": []
    },
    "language_info": {
      "name": "python"
    },
    "kernelspec": {
      "name": "python3",
      "display_name": "Python 3"
    }
  },
  "nbformat": 4,
  "nbformat_minor": 5
}