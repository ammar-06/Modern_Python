{
  "nbformat": 4,
  "nbformat_minor": 0,
  "metadata": {
    "colab": {
      "provenance": []
    },
    "kernelspec": {
      "name": "python3",
      "display_name": "Python 3"
    },
    "language_info": {
      "name": "python"
    }
  },
  "cells": [
    {
      "cell_type": "markdown",
      "source": [
        "# Introduction to List Comprehensions in Python\n",
        "\n",
        "## What is List Comprehension?\n",
        "\n",
        "List comprehension is a concise way to create lists in Python. It allows we to generate a new list by applying an expression to each item in an existing iterable (such as a list, tuple,range, dictionary) and optionally applying a condition to filter the items.\n",
        "\n",
        "## Why Do We Need List Comprehensions?\n",
        "\n"
      ],
      "metadata": {
        "id": "bDTyXjdpQiqB"
      }
    },
    {
      "cell_type": "markdown",
      "source": [
        "### The Problem: Creating Lists Using Loops\n",
        "\n",
        "Consider a scenario where we want to `create a list of squares for the numbers 1 through 5`. A typical approach might involve using a `for` loop:\n",
        "\n",
        "While this works, it requires multiple lines of code: one to initialize the list, one for the loop, and one to append each result. As the complexity of the list generation increases, so does the amount of code needed.\n"
      ],
      "metadata": {
        "id": "Hco1XNSMQ8KE"
      }
    },
    {
      "cell_type": "code",
      "execution_count": 7,
      "metadata": {
        "id": "8AWF27kyQQfR",
        "outputId": "53a806c2-ea1e-412b-bf44-0cd023b6a1e6",
        "colab": {
          "base_uri": "https://localhost:8080/"
        }
      },
      "outputs": [
        {
          "output_type": "stream",
          "name": "stdout",
          "text": [
            "[1, 4, 9, 16, 25]\n"
          ]
        }
      ],
      "source": [
        "squares : list[int]  = []\n",
        "for x in range(1, 6):\n",
        "    squares.append(x**2)\n",
        "\n",
        "print(squares)"
      ]
    },
    {
      "cell_type": "markdown",
      "source": [
        "### The Solution: Simplify Code with List Comprehensions\n",
        "\n",
        "List comprehensions provide a more elegant and concise way to achieve the same result. We can generate the list of squares in a single line:\n"
      ],
      "metadata": {
        "id": "kItaQEjCRQc1"
      }
    },
    {
      "cell_type": "code",
      "source": [
        "squares : list[int] = [x**2 for x in range(1, 6)]\n",
        "print(squares)"
      ],
      "metadata": {
        "id": "ybezfIgrRRrz",
        "outputId": "ef716e13-5ea6-418f-857a-a670f9750db6",
        "colab": {
          "base_uri": "https://localhost:8080/"
        }
      },
      "execution_count": 8,
      "outputs": [
        {
          "output_type": "stream",
          "name": "stdout",
          "text": [
            "[1, 4, 9, 16, 25]\n"
          ]
        }
      ]
    },
    {
      "cell_type": "code",
      "source": [
        "cubes: list[int]=[x**3 for x in range(1,11)]\n",
        "print(cubes)"
      ],
      "metadata": {
        "id": "ZZJIzaU_WTCO",
        "outputId": "1cc67f9c-384c-4164-d540-ba7563e05d4c",
        "colab": {
          "base_uri": "https://localhost:8080/"
        }
      },
      "execution_count": 9,
      "outputs": [
        {
          "output_type": "stream",
          "name": "stdout",
          "text": [
            "[1, 8, 27, 64, 125, 216, 343, 512, 729, 1000]\n"
          ]
        }
      ]
    },
    {
      "cell_type": "markdown",
      "source": [
        "This approach is not only more readable but also often more efficient.\n",
        "\n",
        "## How List Comprehensions Work\n",
        "\n",
        "### Basic Syntax\n",
        "\n",
        "The basic syntax of a list comprehension is:\n",
        "\n",
        "```python\n",
        "[expression for item in iterable]\n",
        "```\n",
        "\n",
        "Where:\n",
        "- `expression` is the value to be included in the new list.It specifies what each item in the new list will look like\n",
        "- `item` represents each element in the `iterable` (e.g., list, range, etc.).\n",
        "- `iterable` is the collection or range we're iterating over.\n"
      ],
      "metadata": {
        "id": "OYUevrEYRgji"
      }
    },
    {
      "cell_type": "markdown",
      "source": [
        "### Example: Creating a List of Squares\n"
      ],
      "metadata": {
        "id": "_8phEkHKRptX"
      }
    },
    {
      "cell_type": "code",
      "source": [
        "squares : list[int] = [x**2 for x in range(1, 6)]\n",
        "print(squares)"
      ],
      "metadata": {
        "id": "XZGRJuN6Rqpw",
        "outputId": "f6a29b35-1bfb-4cf5-8158-a49aa40f6824",
        "colab": {
          "base_uri": "https://localhost:8080/"
        }
      },
      "execution_count": 10,
      "outputs": [
        {
          "output_type": "stream",
          "name": "stdout",
          "text": [
            "[1, 4, 9, 16, 25]\n"
          ]
        }
      ]
    },
    {
      "cell_type": "markdown",
      "source": [
        "### Adding Conditions: Filtering with List Comprehensions\n",
        "\n",
        "We can add an optional condition to filter the elements being processed by the list comprehension.\n"
      ],
      "metadata": {
        "id": "WrQjnVPCR1U0"
      }
    },
    {
      "cell_type": "markdown",
      "source": [
        "#### Example1: Creating a List of Even Squares\n"
      ],
      "metadata": {
        "id": "BkhYFHOyR2YU"
      }
    },
    {
      "cell_type": "code",
      "source": [
        "even_squares : list[int] = [x**2 for x in range(1, 11) if x % 2 == 0]\n",
        "print(even_squares)"
      ],
      "metadata": {
        "id": "bXgsvi4_R53E",
        "outputId": "d9abb29d-c7f6-4f4a-9e7f-a8c59e1bdbd6",
        "colab": {
          "base_uri": "https://localhost:8080/"
        }
      },
      "execution_count": 11,
      "outputs": [
        {
          "output_type": "stream",
          "name": "stdout",
          "text": [
            "[4, 16, 36, 64, 100]\n"
          ]
        }
      ]
    },
    {
      "cell_type": "code",
      "source": [
        "odd_square : list[int] = [x**2 for x in range(1,11) if x%2==1]\n",
        "print(odd_square)"
      ],
      "metadata": {
        "id": "fQQooBl2W4c2",
        "outputId": "6aaf0438-15fe-4526-a0bc-b164003a2e5e",
        "colab": {
          "base_uri": "https://localhost:8080/"
        }
      },
      "execution_count": 13,
      "outputs": [
        {
          "output_type": "stream",
          "name": "stdout",
          "text": [
            "[1, 9, 25, 49, 81]\n"
          ]
        }
      ]
    },
    {
      "cell_type": "markdown",
      "source": [
        "In this example, the list comprehension includes only even numbers (i.e., `x % 2 == 0`) before calculating the square.\n",
        "*italicized text*"
      ],
      "metadata": {
        "id": "4pFf2m3kSB_w"
      }
    },
    {
      "cell_type": "markdown",
      "source": [
        "#### Example2: Creating a List of Even Squares\n"
      ],
      "metadata": {
        "id": "GierrjTEWFEl"
      }
    },
    {
      "cell_type": "code",
      "source": [
        "numbers: list[int] = [2, 5, 6, 8]\n",
        "squares: list[int] = []\n",
        "\n",
        "for number in numbers:\n",
        "   #square = number**2\n",
        "   # squares.append(square)\n",
        "    squares.append(number**2)\n",
        "print(numbers)\n",
        "print(squares)"
      ],
      "metadata": {
        "id": "jnfwIgscWMDe",
        "outputId": "38cc0fe5-75ac-4f83-c371-2a81a9f90236",
        "colab": {
          "base_uri": "https://localhost:8080/"
        }
      },
      "execution_count": 17,
      "outputs": [
        {
          "output_type": "stream",
          "name": "stdout",
          "text": [
            "[2, 5, 6, 8]\n",
            "[4, 25, 36, 64]\n"
          ]
        }
      ]
    },
    {
      "cell_type": "code",
      "source": [
        "# [expression for item in iterable]\n",
        "squares2 = [number**2 for number in numbers]\n",
        "print(squares2)"
      ],
      "metadata": {
        "id": "iuje3YnmWS3z",
        "outputId": "84635270-c734-4eb1-9404-065e3d9bf05f",
        "colab": {
          "base_uri": "https://localhost:8080/"
        }
      },
      "execution_count": 18,
      "outputs": [
        {
          "output_type": "stream",
          "name": "stdout",
          "text": [
            "[4, 25, 36, 64]\n"
          ]
        }
      ]
    },
    {
      "cell_type": "code",
      "source": [
        "# list of even square from 1 to 5 in range\n",
        "square3 :list[int] = [num**2 for num in range(1,6) if num % 2 == 0]\n",
        "print(square3)"
      ],
      "metadata": {
        "id": "LzocCsuyvOKy",
        "outputId": "a75b9a30-bf42-4b26-80f1-3f476cb35364",
        "colab": {
          "base_uri": "https://localhost:8080/"
        }
      },
      "execution_count": 19,
      "outputs": [
        {
          "output_type": "stream",
          "name": "stdout",
          "text": [
            "[4, 16]\n"
          ]
        }
      ]
    },
    {
      "cell_type": "markdown",
      "source": [
        "### Method Finding through List Comprehension"
      ],
      "metadata": {
        "id": "8yzLO_3rWjZ4"
      }
    },
    {
      "cell_type": "code",
      "source": [
        "print(dir(str))\n",
        "methods = [method for method in dir(str) if '__' not in method]\n",
        "print(methods)"
      ],
      "metadata": {
        "id": "VPy7MsutWrNB",
        "outputId": "67562b97-8b52-4424-9968-42a2523c105d",
        "colab": {
          "base_uri": "https://localhost:8080/"
        }
      },
      "execution_count": 20,
      "outputs": [
        {
          "output_type": "stream",
          "name": "stdout",
          "text": [
            "['__add__', '__class__', '__contains__', '__delattr__', '__dir__', '__doc__', '__eq__', '__format__', '__ge__', '__getattribute__', '__getitem__', '__getnewargs__', '__getstate__', '__gt__', '__hash__', '__init__', '__init_subclass__', '__iter__', '__le__', '__len__', '__lt__', '__mod__', '__mul__', '__ne__', '__new__', '__reduce__', '__reduce_ex__', '__repr__', '__rmod__', '__rmul__', '__setattr__', '__sizeof__', '__str__', '__subclasshook__', 'capitalize', 'casefold', 'center', 'count', 'encode', 'endswith', 'expandtabs', 'find', 'format', 'format_map', 'index', 'isalnum', 'isalpha', 'isascii', 'isdecimal', 'isdigit', 'isidentifier', 'islower', 'isnumeric', 'isprintable', 'isspace', 'istitle', 'isupper', 'join', 'ljust', 'lower', 'lstrip', 'maketrans', 'partition', 'removeprefix', 'removesuffix', 'replace', 'rfind', 'rindex', 'rjust', 'rpartition', 'rsplit', 'rstrip', 'split', 'splitlines', 'startswith', 'strip', 'swapcase', 'title', 'translate', 'upper', 'zfill']\n",
            "['capitalize', 'casefold', 'center', 'count', 'encode', 'endswith', 'expandtabs', 'find', 'format', 'format_map', 'index', 'isalnum', 'isalpha', 'isascii', 'isdecimal', 'isdigit', 'isidentifier', 'islower', 'isnumeric', 'isprintable', 'isspace', 'istitle', 'isupper', 'join', 'ljust', 'lower', 'lstrip', 'maketrans', 'partition', 'removeprefix', 'removesuffix', 'replace', 'rfind', 'rindex', 'rjust', 'rpartition', 'rsplit', 'rstrip', 'split', 'splitlines', 'startswith', 'strip', 'swapcase', 'title', 'translate', 'upper', 'zfill']\n"
          ]
        }
      ]
    },
    {
      "cell_type": "markdown",
      "source": [
        "### Ternary Operator with List Comprehension\n",
        "syntax:\n",
        "\n",
        "`[expression_if_true if condition else expression_if_false for item in iterable]\n",
        "`"
      ],
      "metadata": {
        "id": "wq0syTlxoIW1"
      }
    },
    {
      "cell_type": "code",
      "source": [
        "list_num : list[int] = [1, 2, 3, 4, 5, 6, 7, 8, 9, 10]\n",
        "list_str : list[str] = [\"Even\" if x%2== 0 else \"Odd\" for x in list_num]\n",
        "print(list_str)"
      ],
      "metadata": {
        "id": "4eERiPYioZGZ"
      },
      "execution_count": null,
      "outputs": []
    },
    {
      "cell_type": "markdown",
      "source": [
        "## Conclusion\n",
        "\n",
        "List comprehensions are a powerful feature in Python that allows for clean, concise, and efficient list creation. Whether we're generating simple lists or working with more complex data transformations, list comprehensions can significantly streamline our code."
      ],
      "metadata": {
        "id": "JCpveJX9SaAi"
      }
    },
    {
      "cell_type": "markdown",
      "source": [
        "## Projects\n"
      ],
      "metadata": {
        "id": "yZArYIwDLv4m"
      }
    },
    {
      "cell_type": "markdown",
      "source": [
        "### Project 1: List of Squares\n",
        "Write a program using list comprehension to:\n",
        "- Generate a list of squares for numbers from 1 to 20.\n",
        "- Filter the list to include only even squares.\n"
      ],
      "metadata": {
        "id": "8ZotircpLyhr"
      }
    },
    {
      "cell_type": "code",
      "source": [
        "squares :list[int]=[x**2 for x in range(1,21)]\n",
        "print(squares)\n",
        "\n",
        "even_squares :list[int]=[x**2 for x in range(1,21) if x%2==0]\n",
        "print(even_squares)"
      ],
      "metadata": {
        "id": "rC36cF5WYvKS",
        "outputId": "c9cedbf6-730a-4fd2-fc7f-fc180c602bf1",
        "colab": {
          "base_uri": "https://localhost:8080/"
        }
      },
      "execution_count": 22,
      "outputs": [
        {
          "output_type": "stream",
          "name": "stdout",
          "text": [
            "[1, 4, 9, 16, 25, 36, 49, 64, 81, 100, 121, 144, 169, 196, 225, 256, 289, 324, 361, 400]\n",
            "[4, 16, 36, 64, 100, 144, 196, 256, 324, 400]\n"
          ]
        }
      ]
    },
    {
      "cell_type": "markdown",
      "source": [
        "### Project 2: Method Finder\n",
        "Create a Python program to:\n",
        "- Use list comprehension to retrieve all methods of a given object (e.g., `list`).\n",
        "- Filter out methods that start and end with double underscores.\n"
      ],
      "metadata": {
        "id": "-LOoINcqL36D"
      }
    },
    {
      "cell_type": "code",
      "source": [
        "list_methods = [method for method in dir(list) if '__'  in method]\n",
        "print(list_methods)"
      ],
      "metadata": {
        "id": "7diX5By2ZcFp",
        "outputId": "bb6ff2f4-7424-40ad-fe8d-f824d33bca0c",
        "colab": {
          "base_uri": "https://localhost:8080/"
        }
      },
      "execution_count": 25,
      "outputs": [
        {
          "output_type": "stream",
          "name": "stdout",
          "text": [
            "['__add__', '__class__', '__class_getitem__', '__contains__', '__delattr__', '__delitem__', '__dir__', '__doc__', '__eq__', '__format__', '__ge__', '__getattribute__', '__getitem__', '__getstate__', '__gt__', '__hash__', '__iadd__', '__imul__', '__init__', '__init_subclass__', '__iter__', '__le__', '__len__', '__lt__', '__mul__', '__ne__', '__new__', '__reduce__', '__reduce_ex__', '__repr__', '__reversed__', '__rmul__', '__setattr__', '__setitem__', '__sizeof__', '__str__', '__subclasshook__']\n"
          ]
        }
      ]
    },
    {
      "cell_type": "markdown",
      "source": [
        "### Project 3: Temperature Converter\n",
        "Develop a Python script to:\n",
        "- Create a list of celsius temperature\n",
        "- Convert the list of temperatures in Celsius to Fahrenheit using list comprehension.\n",
        "- using formula i.e. F=(C×\n",
        "5/\n",
        "9\n",
        "​\n",
        " )+32"
      ],
      "metadata": {
        "id": "8zW__u-VL8Yh"
      }
    },
    {
      "cell_type": "code",
      "source": [
        "celsius_temp : list[float] = [0,10,25,31,38,46,55,63,72,91,100]\n",
        "fahrenheit_temp : list[float] = [((9/5)*x)+32 for x in celsius_temp]\n",
        "print(fahrenheit_temp)"
      ],
      "metadata": {
        "id": "srhXwTJwZymT",
        "outputId": "7ff981b8-3068-4fe8-fc62-da066b37f989",
        "colab": {
          "base_uri": "https://localhost:8080/"
        }
      },
      "execution_count": 26,
      "outputs": [
        {
          "output_type": "stream",
          "name": "stdout",
          "text": [
            "[32.0, 50.0, 77.0, 87.80000000000001, 100.4, 114.8, 131.0, 145.4, 161.6, 195.8, 212.0]\n"
          ]
        }
      ]
    },
    {
      "cell_type": "markdown",
      "source": [
        "### Project 4: Common Elements Finder\n",
        "Create a program to:\n",
        "- Create two lists\n",
        "- Use list comprehension to find the common elements between the two lists.\n",
        "- Return a new list of the common elements.\n"
      ],
      "metadata": {
        "id": "-ljl42tEL_NS"
      }
    },
    {
      "cell_type": "code",
      "source": [
        "list_a : list[int] = [1,2,3,4,5,6,7,8,9,10,15,20,25,99,101]\n",
        "list_b : list[int] =[1,3,5,7,61,9,17,20,24,25,98,97,200,101]\n",
        "\n",
        "print(list_a)\n",
        "print(list_b)\n",
        "\n",
        "common_list:list[int]=[ number for number in list_a if number in list_b]\n",
        "print(common_list)\n"
      ],
      "metadata": {
        "id": "X8eFiezfas4_",
        "outputId": "f23cdfb1-aa4c-46d1-b3a5-f9c9c2062b93",
        "colab": {
          "base_uri": "https://localhost:8080/"
        }
      },
      "execution_count": 31,
      "outputs": [
        {
          "output_type": "stream",
          "name": "stdout",
          "text": [
            "[1, 2, 3, 4, 5, 6, 7, 8, 9, 10, 15, 20, 25, 99, 101]\n",
            "[1, 3, 5, 7, 61, 9, 17, 20, 24, 25, 98, 97, 200, 101]\n",
            "[1, 3, 5, 7, 9, 20, 25, 101]\n"
          ]
        }
      ]
    },
    {
      "cell_type": "markdown",
      "source": [
        "### Project 5: Filter Names\n",
        "Design a Python script that:\n",
        "- Takes a list of names.\n",
        "- Uses list comprehension to filter names starting with a specific letter provided by the user.\n",
        "- using string function startswith() for filter names"
      ],
      "metadata": {
        "id": "7cFZyZJqMDhR"
      }
    },
    {
      "cell_type": "code",
      "source": [
        "names = []  # define the list first\n",
        "\n",
        "n = int(input(\"How many names? \"))\n",
        "\n",
        "for i in range(n):\n",
        "    name = input(\"Enter name: \")\n",
        "    names.append(name)\n",
        "\n",
        "print(names)"
      ],
      "metadata": {
        "id": "8Xg5FutzcHa8",
        "outputId": "68dfd39a-9864-47c8-99f2-0ad446f2b887",
        "colab": {
          "base_uri": "https://localhost:8080/"
        }
      },
      "execution_count": 34,
      "outputs": [
        {
          "output_type": "stream",
          "name": "stdout",
          "text": [
            "How many names? 5\n",
            "Enter name: Ammar\n",
            "Enter name: ahmad\n",
            "Enter name: khan\n",
            "Enter name: mujtuba\n",
            "Enter name: umair\n",
            "['Ammar', 'ahmad', 'khan', 'mujtuba', 'umair']\n"
          ]
        }
      ]
    },
    {
      "cell_type": "code",
      "source": [
        "names = input(\"Enter the names separated by space:\").split()\n",
        "letter = input(\"ENTER THE  STARTING LETTER to filter names with\")\n",
        "filtered_names = [name for name in names if name.startswith(letter)]\n",
        "print(names)\n",
        "print(filtered_names)\n"
      ],
      "metadata": {
        "id": "9Su2NDf1cHY2",
        "outputId": "3d8ed6d5-3ceb-45a4-e4ae-1230c427dfac",
        "colab": {
          "base_uri": "https://localhost:8080/"
        }
      },
      "execution_count": 38,
      "outputs": [
        {
          "output_type": "stream",
          "name": "stdout",
          "text": [
            "Enter the names separated by space:ahmad haris ajan ahan ashan ammar\n",
            "ENTER THE  STARTING LETTER to filter names withh\n",
            "['ahmad', 'haris', 'ajan', 'ahan', 'ashan', 'ammar']\n",
            "['haris']\n"
          ]
        }
      ]
    },
    {
      "cell_type": "markdown",
      "source": [
        "### Project 6: Vowel Counter\n",
        "Write a program to:\n",
        "- Accept a sentence from the user.\n",
        "- Use list comprehension to count the number of vowels in the sentence."
      ],
      "metadata": {
        "id": "CcZpILHwMGn0"
      }
    },
    {
      "cell_type": "code",
      "source": [
        "sentence=input(\"Enter a sentence\")\n",
        "print(sentence)\n",
        "\n",
        "# vowels_count : list[int] = [ x for x in sentence if x in 'aeiouAEIOU']\n",
        "# print(len(vowels_count))\n",
        "\n",
        "vowels = [ch for ch in sentence if ch.lower() in 'aeiou']\n",
        "print(len(vowels))"
      ],
      "metadata": {
        "id": "fcZdnWhLfsZa",
        "outputId": "700a05d0-2647-4269-8775-f87f716c54f3",
        "colab": {
          "base_uri": "https://localhost:8080/"
        }
      },
      "execution_count": 43,
      "outputs": [
        {
          "output_type": "stream",
          "name": "stdout",
          "text": [
            "Enter a sentenceammar ahmad \n",
            "ammar ahmad \n",
            "4\n"
          ]
        }
      ]
    }
  ]
}