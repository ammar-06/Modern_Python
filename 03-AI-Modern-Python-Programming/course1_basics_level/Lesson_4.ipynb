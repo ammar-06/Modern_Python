{
  "cells": [
    {
      "cell_type": "markdown",
      "id": "817221c9",
      "metadata": {
        "id": "817221c9"
      },
      "source": [
        "# Variables"
      ]
    },
    {
      "cell_type": "markdown",
      "id": "1512b57b",
      "metadata": {
        "id": "1512b57b"
      },
      "source": [
        "In computer programming, <b>variables</b> are used to store, process, and manipulate data. So, let's say you wanted to store `28` in the variable `age`, this is what you would do:"
      ]
    },
    {
      "cell_type": "markdown",
      "id": "Q2VN6sYxsZRI",
      "metadata": {
        "id": "Q2VN6sYxsZRI"
      },
      "source": []
    },
    {
      "cell_type": "code",
      "execution_count": null,
      "id": "9ae82ae7",
      "metadata": {
        "id": "9ae82ae7"
      },
      "outputs": [],
      "source": [
        "# name: data-type = value\n",
        "# datatypes -> int, str, float, list, bool, dict, set\n",
        "\n",
        "age: int = 28"
      ]
    },
    {
      "cell_type": "code",
      "source": [
        "print(age)\n",
        "print(age)\n",
        "age"
      ],
      "metadata": {
        "id": "A6h9hlkK4q_p",
        "outputId": "b517b836-4ff6-417b-82a4-e41614da5e3d",
        "colab": {
          "base_uri": "https://localhost:8080/"
        }
      },
      "id": "A6h9hlkK4q_p",
      "execution_count": null,
      "outputs": [
        {
          "output_type": "stream",
          "name": "stdout",
          "text": [
            "28\n",
            "28\n"
          ]
        },
        {
          "output_type": "execute_result",
          "data": {
            "text/plain": [
              "28"
            ]
          },
          "metadata": {},
          "execution_count": 2
        }
      ]
    },
    {
      "cell_type": "code",
      "source": [
        "# int age"
      ],
      "metadata": {
        "id": "mEhGtK6j39QL"
      },
      "id": "mEhGtK6j39QL",
      "execution_count": null,
      "outputs": []
    },
    {
      "cell_type": "markdown",
      "id": "e0d89b8d",
      "metadata": {
        "id": "e0d89b8d"
      },
      "source": [
        "So if you used `print()` with `age` as an argument, you would get the value that you assigned to that variable."
      ]
    },
    {
      "cell_type": "code",
      "execution_count": 1,
      "id": "80b5943a",
      "metadata": {
        "id": "80b5943a",
        "outputId": "61affdca-ef0d-49e4-c4e2-de86cb1e8bd9",
        "colab": {
          "base_uri": "https://localhost:8080/",
          "height": 211
        }
      },
      "outputs": [
        {
          "output_type": "error",
          "ename": "NameError",
          "evalue": "name 'age' is not defined",
          "traceback": [
            "\u001b[0;31m---------------------------------------------------------------------------\u001b[0m",
            "\u001b[0;31mNameError\u001b[0m                                 Traceback (most recent call last)",
            "\u001b[0;32m<ipython-input-1-a72ca8751da3>\u001b[0m in \u001b[0;36m<cell line: 0>\u001b[0;34m()\u001b[0m\n\u001b[0;32m----> 1\u001b[0;31m \u001b[0mprint\u001b[0m\u001b[0;34m(\u001b[0m\u001b[0mage\u001b[0m\u001b[0;34m)\u001b[0m\u001b[0;34m\u001b[0m\u001b[0;34m\u001b[0m\u001b[0m\n\u001b[0m\u001b[1;32m      2\u001b[0m \u001b[0mprint\u001b[0m\u001b[0;34m(\u001b[0m\u001b[0mtype\u001b[0m\u001b[0;34m(\u001b[0m\u001b[0mage\u001b[0m\u001b[0;34m)\u001b[0m\u001b[0;34m)\u001b[0m\u001b[0;34m\u001b[0m\u001b[0;34m\u001b[0m\u001b[0m\n\u001b[1;32m      3\u001b[0m \u001b[0;34m\u001b[0m\u001b[0m\n\u001b[1;32m      4\u001b[0m \u001b[0;31m# age is an obj belonging to int class\u001b[0m\u001b[0;34m\u001b[0m\u001b[0;34m\u001b[0m\u001b[0m\n\u001b[1;32m      5\u001b[0m \u001b[0;31m# Objects have methods & attributes\u001b[0m\u001b[0;34m\u001b[0m\u001b[0;34m\u001b[0m\u001b[0m\n",
            "\u001b[0;31mNameError\u001b[0m: name 'age' is not defined"
          ]
        }
      ],
      "source": [
        "print(age)\n",
        "print(type(age))\n",
        "\n",
        "# age is an obj belonging to int class\n",
        "# Objects have methods & attributes\n",
        "# methods = actions (i.e: coding)\n",
        "# attributes = properties (i.e: name)\n",
        "\n",
        "# see all methods and attributes\n",
        "#dir(age)\n",
        "# print([i for i in dir(age) if '__' not in i])"
      ]
    },
    {
      "cell_type": "code",
      "source": [
        "name : str = \"John\"\n",
        "dir(name)"
      ],
      "metadata": {
        "id": "E-OI8iiE6mnx",
        "outputId": "3eeb2572-5d9b-4d1e-f8e6-55082edcec5c",
        "colab": {
          "base_uri": "https://localhost:8080/"
        }
      },
      "id": "E-OI8iiE6mnx",
      "execution_count": null,
      "outputs": [
        {
          "output_type": "execute_result",
          "data": {
            "text/plain": [
              "['__add__',\n",
              " '__class__',\n",
              " '__contains__',\n",
              " '__delattr__',\n",
              " '__dir__',\n",
              " '__doc__',\n",
              " '__eq__',\n",
              " '__format__',\n",
              " '__ge__',\n",
              " '__getattribute__',\n",
              " '__getitem__',\n",
              " '__getnewargs__',\n",
              " '__getstate__',\n",
              " '__gt__',\n",
              " '__hash__',\n",
              " '__init__',\n",
              " '__init_subclass__',\n",
              " '__iter__',\n",
              " '__le__',\n",
              " '__len__',\n",
              " '__lt__',\n",
              " '__mod__',\n",
              " '__mul__',\n",
              " '__ne__',\n",
              " '__new__',\n",
              " '__reduce__',\n",
              " '__reduce_ex__',\n",
              " '__repr__',\n",
              " '__rmod__',\n",
              " '__rmul__',\n",
              " '__setattr__',\n",
              " '__sizeof__',\n",
              " '__str__',\n",
              " '__subclasshook__',\n",
              " 'capitalize',\n",
              " 'casefold',\n",
              " 'center',\n",
              " 'count',\n",
              " 'encode',\n",
              " 'endswith',\n",
              " 'expandtabs',\n",
              " 'find',\n",
              " 'format',\n",
              " 'format_map',\n",
              " 'index',\n",
              " 'isalnum',\n",
              " 'isalpha',\n",
              " 'isascii',\n",
              " 'isdecimal',\n",
              " 'isdigit',\n",
              " 'isidentifier',\n",
              " 'islower',\n",
              " 'isnumeric',\n",
              " 'isprintable',\n",
              " 'isspace',\n",
              " 'istitle',\n",
              " 'isupper',\n",
              " 'join',\n",
              " 'ljust',\n",
              " 'lower',\n",
              " 'lstrip',\n",
              " 'maketrans',\n",
              " 'partition',\n",
              " 'removeprefix',\n",
              " 'removesuffix',\n",
              " 'replace',\n",
              " 'rfind',\n",
              " 'rindex',\n",
              " 'rjust',\n",
              " 'rpartition',\n",
              " 'rsplit',\n",
              " 'rstrip',\n",
              " 'split',\n",
              " 'splitlines',\n",
              " 'startswith',\n",
              " 'strip',\n",
              " 'swapcase',\n",
              " 'title',\n",
              " 'translate',\n",
              " 'upper',\n",
              " 'zfill']"
            ]
          },
          "metadata": {},
          "execution_count": 5
        }
      ]
    },
    {
      "cell_type": "markdown",
      "id": "8ddf96c1",
      "metadata": {
        "id": "8ddf96c1"
      },
      "source": [
        "With `age = 28` you are telling Python to create a variable named `age` and use it to store the value `28`. However, you can change the value assigned to any variable you previously created. For instance, you can assign a value of `5` to `age` using the following code:"
      ]
    },
    {
      "cell_type": "code",
      "execution_count": 3,
      "id": "0cc2c56f",
      "metadata": {
        "id": "0cc2c56f"
      },
      "outputs": [],
      "source": [
        "age: int = 5"
      ]
    },
    {
      "cell_type": "markdown",
      "id": "448a0658",
      "metadata": {
        "id": "448a0658"
      },
      "source": [
        "So if you display `age`, you will get `5` instead of `28`."
      ]
    },
    {
      "cell_type": "code",
      "execution_count": null,
      "id": "b594137a",
      "metadata": {
        "id": "b594137a",
        "outputId": "63b11c76-288c-45df-aad6-10f0267b2c18",
        "colab": {
          "base_uri": "https://localhost:8080/"
        }
      },
      "outputs": [
        {
          "output_type": "stream",
          "name": "stdout",
          "text": [
            "5\n"
          ]
        }
      ],
      "source": [
        "print(age)"
      ]
    },
    {
      "cell_type": "code",
      "execution_count": 5,
      "id": "9B3nCNkcw_lG",
      "metadata": {
        "id": "9B3nCNkcw_lG",
        "outputId": "dc8a4f71-625d-49e7-f1fa-05306eb65b69",
        "colab": {
          "base_uri": "https://localhost:8080/"
        }
      },
      "outputs": [
        {
          "output_type": "stream",
          "name": "stdout",
          "text": [
            "2\n",
            "10750888\n",
            "5\n",
            "10750984\n",
            "10\n",
            "10751144\n",
            "10\n",
            "10751144\n",
            "99\n"
          ]
        }
      ],
      "source": [
        "age1: int = 2\n",
        "print(age1)\n",
        "print(id(age1))\n",
        "\n",
        "age1 = 5\n",
        "print(age1)\n",
        "print(id(age1))\n",
        "\n",
        "age1 = 10\n",
        "print(age1)\n",
        "print(id(age1))\n",
        "\n",
        "age2 : int = 10\n",
        "print(age2)\n",
        "print(id(age2))\n",
        "\n",
        "age3: int=99\n",
        "print(age3)\n"
      ]
    },
    {
      "cell_type": "code",
      "execution_count": null,
      "id": "jOsUFc6fxikk",
      "metadata": {
        "id": "jOsUFc6fxikk",
        "outputId": "59486df7-83db-4428-b284-29312ec7b171",
        "colab": {
          "base_uri": "https://localhost:8080/"
        }
      },
      "outputs": [
        {
          "output_type": "stream",
          "name": "stdout",
          "text": [
            "10\n"
          ]
        }
      ],
      "source": [
        "print(age1)"
      ]
    },
    {
      "cell_type": "markdown",
      "id": "764df696",
      "metadata": {
        "id": "764df696"
      },
      "source": [
        "## Variables store numbers, strings and other type of data"
      ]
    },
    {
      "cell_type": "markdown",
      "id": "3b4f1b37",
      "metadata": {
        "id": "3b4f1b37"
      },
      "source": [
        "Variables can be used to store floating point numbers, integers, strings, and other types of data. For instance, you can create a variable `name` and assign it the string `\"Otto\"`, or a variable `gnome_height` and assign it the floating point number `12.7`."
      ]
    },
    {
      "cell_type": "code",
      "execution_count": 8,
      "id": "d2e765a1",
      "metadata": {
        "id": "d2e765a1"
      },
      "outputs": [],
      "source": [
        "name: str = \"Otto\"\n",
        "gnome_height: float = 12.7\n",
        "name2: str = \"Ammar\"\n",
        "Ammar_height: float = 5.7"
      ]
    },
    {
      "cell_type": "markdown",
      "id": "e6595034",
      "metadata": {
        "id": "e6595034"
      },
      "source": [
        "You can use variables within f-strings to make your output more readable. For example, you can print the value assigned to `age` along with the string `\"Age: \"` so that anyone reading the display will understand what the value represents.\n",
        "\n",
        "Here’s how you can do it:"
      ]
    },
    {
      "cell_type": "code",
      "execution_count": 11,
      "id": "37d2833c",
      "metadata": {
        "colab": {
          "base_uri": "https://localhost:8080/"
        },
        "id": "37d2833c",
        "outputId": "27ee7019-04e3-4492-e5f7-0075eaf22c9c"
      },
      "outputs": [
        {
          "output_type": "stream",
          "name": "stdout",
          "text": [
            "Name : Otto\n",
            "age : 5\n",
            "Name : Ammar\n",
            "Age : 5.7\n"
          ]
        }
      ],
      "source": [
        "print(f\"Name : {name}\")\n",
        "print(f\"age : {age}\")\n",
        "\n",
        "print(f\"Name : {name2}\" )\n",
        "print(f\"Age : {Ammar_height}\")"
      ]
    },
    {
      "cell_type": "markdown",
      "id": "d156652d",
      "metadata": {
        "id": "d156652d"
      },
      "source": [
        "As another example, let's use f-strings to display the values assigned to `name` and `gnome_height`."
      ]
    },
    {
      "cell_type": "code",
      "execution_count": 12,
      "id": "f4dd9caa",
      "metadata": {
        "id": "f4dd9caa",
        "outputId": "2c5e21e5-67b7-463f-f9d7-2fbde77958b6",
        "colab": {
          "base_uri": "https://localhost:8080/"
        }
      },
      "outputs": [
        {
          "output_type": "stream",
          "name": "stdout",
          "text": [
            "Name: Otto\n",
            "Gnome height: 12.7\n"
          ]
        }
      ],
      "source": [
        "print(f\"Name: {name}\")\n",
        "print(f\"Gnome height: {gnome_height}\")"
      ]
    },
    {
      "cell_type": "markdown",
      "id": "f86ccabc",
      "metadata": {
        "id": "f86ccabc"
      },
      "source": [
        "<b>Important:</b> Variables are case-sensitive, so `Gnome_height` and `gnome_height` are not the same. To see this, you can run the next cell where you will get an error message."
      ]
    },
    {
      "cell_type": "code",
      "execution_count": 13,
      "id": "c43043e4",
      "metadata": {
        "colab": {
          "base_uri": "https://localhost:8080/"
        },
        "id": "c43043e4",
        "outputId": "a2c6fac2-bd31-4902-a5c7-fd8ff5231555"
      },
      "outputs": [
        {
          "output_type": "stream",
          "name": "stdout",
          "text": [
            "Gnome height: 12.7\n"
          ]
        }
      ],
      "source": [
        "print(f\"Gnome height: {gnome_height}\")"
      ]
    },
    {
      "cell_type": "markdown",
      "id": "99c43159-f5b4-4ab5-b9d4-b142979cb172",
      "metadata": {
        "id": "99c43159-f5b4-4ab5-b9d4-b142979cb172"
      },
      "source": [
        "## Variables help you store values that constantly change"
      ]
    },
    {
      "cell_type": "markdown",
      "id": "9154a6a6-ab67-4d96-85fc-5bbfbea65e11",
      "metadata": {
        "id": "9154a6a6-ab67-4d96-85fc-5bbfbea65e11"
      },
      "source": [
        "Take a game where the score starts at zero. In the next cell, you create a variable `score`, assign it the value of `0`, and display the current score."
      ]
    },
    {
      "cell_type": "code",
      "execution_count": 14,
      "id": "5a47354d",
      "metadata": {
        "id": "5a47354d",
        "outputId": "a9e045e3-128f-44a7-92c2-efe7bf51bf74",
        "colab": {
          "base_uri": "https://localhost:8080/"
        }
      },
      "outputs": [
        {
          "output_type": "stream",
          "name": "stdout",
          "text": [
            "0\n"
          ]
        }
      ],
      "source": [
        "score: int = 0 # now score is 0\n",
        "print(score)"
      ]
    },
    {
      "cell_type": "markdown",
      "id": "b59c99bb-d58a-4a8e-9f1b-fd2010cf7e12",
      "metadata": {
        "id": "b59c99bb-d58a-4a8e-9f1b-fd2010cf7e12"
      },
      "source": [
        "When the score increases by 50 points, you can update the variable by using its previous value and adding `50`."
      ]
    },
    {
      "cell_type": "code",
      "execution_count": 15,
      "id": "019ca96e",
      "metadata": {
        "id": "019ca96e",
        "outputId": "e001f8b3-080d-41c7-e289-006460fa5d0e",
        "colab": {
          "base_uri": "https://localhost:8080/"
        }
      },
      "outputs": [
        {
          "output_type": "stream",
          "name": "stdout",
          "text": [
            "6\n",
            "12\n",
            "16\n"
          ]
        }
      ],
      "source": [
        "# Override\n",
        "score = 6 # now score is 0 + 6 which is 6\n",
        "print(score)\n",
        "\n",
        "score = score + 6 # now score is 6\n",
        "print(score)\n",
        "\n",
        "score += 4 # score = score + 4\n",
        "print(score)"
      ]
    },
    {
      "cell_type": "markdown",
      "id": "b6d6a85b-c210-4bd3-8cb3-7013775fcec4",
      "metadata": {
        "id": "b6d6a85b-c210-4bd3-8cb3-7013775fcec4"
      },
      "source": [
        "In a similar way, when the score increases by 100 points, the variable `score` can be updated by adding `100` to the previous value stored in `score`."
      ]
    },
    {
      "cell_type": "code",
      "execution_count": 16,
      "id": "a7b08d88",
      "metadata": {
        "id": "a7b08d88",
        "outputId": "e80f827a-7a0d-431c-b1e2-a0aebcedfea1",
        "colab": {
          "base_uri": "https://localhost:8080/"
        }
      },
      "outputs": [
        {
          "output_type": "stream",
          "name": "stdout",
          "text": [
            "116\n"
          ]
        }
      ],
      "source": [
        "score += 100 # now score is 100 + 16 which is 116 - this is short form\n",
        "# score = score + 100 # now score is 100 + 16 which is 150\n",
        "print(score)"
      ]
    },
    {
      "cell_type": "markdown",
      "id": "cbd2c6e3-edd1-42fc-9f3b-b4b1eed37412",
      "metadata": {
        "id": "cbd2c6e3-edd1-42fc-9f3b-b4b1eed37412"
      },
      "source": [
        "And, after scoring an extra 300 points, the variable `score` is updated by adding `300` to the previous value stored in `score`."
      ]
    },
    {
      "cell_type": "code",
      "execution_count": 17,
      "id": "101602ad",
      "metadata": {
        "colab": {
          "base_uri": "https://localhost:8080/"
        },
        "id": "101602ad",
        "outputId": "eb46b172-201c-4bba-8a10-ee253a06d405"
      },
      "outputs": [
        {
          "output_type": "stream",
          "name": "stdout",
          "text": [
            "416\n"
          ]
        }
      ],
      "source": [
        "score = score + 300 # now score is 116 + 300 which is 416\n",
        "print(score)"
      ]
    },
    {
      "cell_type": "markdown",
      "id": "50b3f514-dd75-475c-819f-ad55e93f2728",
      "metadata": {
        "id": "50b3f514-dd75-475c-819f-ad55e93f2728"
      },
      "source": [
        "So at the end, the variable `score` stores the most updated score value.\n",
        "\n",
        "You can print the final score using an f-string as shown in the cell below:"
      ]
    },
    {
      "cell_type": "code",
      "execution_count": 18,
      "id": "4a0cc976",
      "metadata": {
        "colab": {
          "base_uri": "https://localhost:8080/"
        },
        "id": "4a0cc976",
        "outputId": "aaea967b-2968-4b1d-b279-2e65bb5d93f7"
      },
      "outputs": [
        {
          "output_type": "stream",
          "name": "stdout",
          "text": [
            "Your final score was: 416\n"
          ]
        }
      ],
      "source": [
        "print(f\"Your final score was: {score}\") # prints 416"
      ]
    },
    {
      "cell_type": "markdown",
      "id": "8c98ef76-dbc5-46e9-bfea-44e1eead9e19",
      "metadata": {
        "id": "8c98ef76-dbc5-46e9-bfea-44e1eead9e19"
      },
      "source": [
        "## Variable names restrictions OR Variable Naming Rules\n",
        "\n",
        "1. They can only contain letters (a-z, A-Z), numbers (0-9), and underscores (_).\n",
        "2. They cannot start with a number.\n",
        "3. They are case-sensitive (myScore and myScore are different variables)\n",
        "4. Make sure your variable names are descriptive\n",
        "5.  Don't have spaces between words\n",
        "6.  Don't use special words like print or input\n",
        "7.  Choose simple words that are less likely to become typos\n",
        "8.  Check the company style guidelines if you start work at a company\n",
        "\n",
        "\n"
      ]
    },
    {
      "cell_type": "code",
      "source": [
        "# Age agE your_age 1age"
      ],
      "metadata": {
        "id": "q-i7WaMv-X7w"
      },
      "id": "q-i7WaMv-X7w",
      "execution_count": 19,
      "outputs": []
    },
    {
      "cell_type": "code",
      "source": [
        "your_age: int = 10\n"
      ],
      "metadata": {
        "id": "JAOkn1zX_B1V"
      },
      "id": "JAOkn1zX_B1V",
      "execution_count": 20,
      "outputs": []
    },
    {
      "cell_type": "markdown",
      "id": "a521e742-511b-4d4d-b07c-248ec3d5e43d",
      "metadata": {
        "id": "a521e742-511b-4d4d-b07c-248ec3d5e43d"
      },
      "source": [
        "To demonstrate an important fact about variable names in Python, try to run the code below."
      ]
    },
    {
      "cell_type": "code",
      "execution_count": 21,
      "id": "42e3bcd2",
      "metadata": {
        "id": "42e3bcd2"
      },
      "outputs": [],
      "source": [
        "# No special character like space here i.e + - , *\n",
        "my_score: int = 450"
      ]
    },
    {
      "cell_type": "markdown",
      "id": "a4b2761a-e06d-46a3-a68f-1b6017a81881",
      "metadata": {
        "id": "a4b2761a-e06d-46a3-a68f-1b6017a81881"
      },
      "source": [
        "Now, ask the chatbot why that code didn't work. You can use the prompt suggested here.\n",
        "\n",
        "<p style=\"background-color:#F5C780; padding:15px\"> 🤖 <b>Use the Chatbot</b>: Why doesn't this code work? my score = 450\n",
        "</p>"
      ]
    },
    {
      "cell_type": "code",
      "execution_count": null,
      "id": "f10I8oOp1oZT",
      "metadata": {
        "id": "f10I8oOp1oZT"
      },
      "outputs": [],
      "source": [
        "# prompt: Why doesn't this code work? my score = 450\n",
        "\n",
        "# The code \"my score = 450\" doesn't work because variable names in Python cannot contain spaces.\n",
        "# Python variable names must follow specific rules:\n",
        "#\n",
        "#\n",
        "# In the example \"my score = 450\", the space between \"my\" and \"score\" violates the first rule, making it an invalid variable name.\n",
        "#\n",
        "# To fix it, you could use an underscore to replace the space:\n",
        "#\n",
        "# my_score = 450\n",
        "#\n",
        "# Or you could combine the words without a space:\n",
        "#\n",
        "# myscore = 450"
      ]
    },
    {
      "cell_type": "markdown",
      "id": "5aece0d4",
      "metadata": {
        "id": "5aece0d4"
      },
      "source": [
        "## Variables allow you to code efficiently!"
      ]
    },
    {
      "cell_type": "markdown",
      "id": "a5e87451",
      "metadata": {
        "id": "a5e87451"
      },
      "source": [
        "Recall the dog age example that you saw in previous lessons. Assuming that Otto is 49 years old, you can display his dog age by using `print(49 / 7)`."
      ]
    },
    {
      "cell_type": "code",
      "execution_count": 22,
      "id": "1643e928",
      "metadata": {
        "id": "1643e928",
        "outputId": "9337cd5d-ddf2-4b06-f1a8-f193945324b8",
        "colab": {
          "base_uri": "https://localhost:8080/"
        }
      },
      "outputs": [
        {
          "output_type": "stream",
          "name": "stdout",
          "text": [
            "7.0\n"
          ]
        }
      ],
      "source": [
        "print(49 / 7)"
      ]
    },
    {
      "cell_type": "markdown",
      "id": "e3de9f60",
      "metadata": {
        "id": "e3de9f60"
      },
      "source": [
        "Using f-strings so that it is clear what you are displaying, you would use code similar to the one in the cell below."
      ]
    },
    {
      "cell_type": "code",
      "execution_count": 23,
      "id": "4db3559f",
      "metadata": {
        "id": "4db3559f",
        "outputId": "9baa9ae9-2774-4377-9088-5071a7601b7b",
        "colab": {
          "base_uri": "https://localhost:8080/"
        }
      },
      "outputs": [
        {
          "output_type": "stream",
          "name": "stdout",
          "text": [
            "Otto's age in dog years is 7.0\n"
          ]
        }
      ],
      "source": [
        "print(f\"Otto's age in dog years is {49 / 7}\")"
      ]
    },
    {
      "cell_type": "markdown",
      "id": "98904686",
      "metadata": {
        "id": "98904686"
      },
      "source": [
        "Alternatively, now that you have seen how variables work, you can compute Otto's dog age and assign it to the variable `dog_age`."
      ]
    },
    {
      "cell_type": "code",
      "execution_count": 24,
      "id": "a9918f72",
      "metadata": {
        "id": "a9918f72"
      },
      "outputs": [],
      "source": [
        "dog_age: float = round(49 / 7)"
      ]
    },
    {
      "cell_type": "markdown",
      "id": "8db0f9f6",
      "metadata": {
        "id": "8db0f9f6"
      },
      "source": [
        "You can see how this would be an advantage if you consider the following scenario. Let's say you want to display an f-string with Otto's dog age multiple times. Without using variables, you would need to compute his dog age as many times as you refer to it."
      ]
    },
    {
      "cell_type": "code",
      "execution_count": 25,
      "id": "2874dcd1",
      "metadata": {
        "id": "2874dcd1",
        "outputId": "f5b98670-b275-40c5-a7c5-a617228b0abb",
        "colab": {
          "base_uri": "https://localhost:8080/"
        }
      },
      "outputs": [
        {
          "output_type": "stream",
          "name": "stdout",
          "text": [
            "Otto's dog age is 7.0. So a dog that's about\n",
            "7.0 would be the same age as Otto. Any dog born about 7.0\n",
            "years ago would be in the same stage of life as Otto.\n"
          ]
        }
      ],
      "source": [
        "print(f\"\"\"Otto's dog age is {49/7}. So a dog that's about\n",
        "{49/7} would be the same age as Otto. Any dog born about {49/7}\n",
        "years ago would be in the same stage of life as Otto.\"\"\")"
      ]
    },
    {
      "cell_type": "markdown",
      "id": "335511cc",
      "metadata": {
        "id": "335511cc"
      },
      "source": [
        "If Otto became a year older, you would need to change the values in each of the curly braces to `50/7`. Instead, if you used an f-string with the `dog_age` variable as the one below:"
      ]
    },
    {
      "cell_type": "code",
      "execution_count": 26,
      "id": "98bf95bf",
      "metadata": {
        "id": "98bf95bf",
        "outputId": "ca9020ac-a20b-4fad-ebfb-d9326f6b569d",
        "colab": {
          "base_uri": "https://localhost:8080/"
        }
      },
      "outputs": [
        {
          "output_type": "stream",
          "name": "stdout",
          "text": [
            "Otto's dog age is 7. So a dog that's about\n",
            "7 would be the same age as Otto. Any dog born about 7\n",
            "years ago would be in the same stage of life as Otto.\n"
          ]
        }
      ],
      "source": [
        "print(f\"\"\"Otto's dog age is {dog_age}. So a dog that's about\n",
        "{dog_age} would be the same age as Otto. Any dog born about {dog_age}\n",
        "years ago would be in the same stage of life as Otto.\"\"\")"
      ]
    },
    {
      "cell_type": "markdown",
      "id": "bc58205f",
      "metadata": {
        "id": "bc58205f"
      },
      "source": [
        "You will only need to update `dog_age` with Otto's new equivalent dog age:"
      ]
    },
    {
      "cell_type": "code",
      "execution_count": 27,
      "id": "e7652ae2",
      "metadata": {
        "id": "e7652ae2"
      },
      "outputs": [],
      "source": [
        "# Override\n",
        "dog_age = round(50/7)"
      ]
    },
    {
      "cell_type": "markdown",
      "id": "87549ba8",
      "metadata": {
        "id": "87549ba8"
      },
      "source": [
        "And use the same f-string that you used before without editing. By defining a variable once, you can use it in multiple places, which makes computer programs much more efficient."
      ]
    },
    {
      "cell_type": "code",
      "execution_count": 28,
      "id": "9df1557b",
      "metadata": {
        "id": "9df1557b",
        "outputId": "4eef863d-8e6d-4927-c2df-4d7e5d763c04",
        "colab": {
          "base_uri": "https://localhost:8080/"
        }
      },
      "outputs": [
        {
          "output_type": "stream",
          "name": "stdout",
          "text": [
            "Otto's dog age is 7. So a dog that's about\n",
            "7 would be the same age as Otto. Any dog born about 7\n",
            "years ago would be in the same stage of life as Otto.\n"
          ]
        }
      ],
      "source": [
        "print(f\"\"\"Otto's dog age is {dog_age:.0f}. So a dog that's about\n",
        "{dog_age:.0f} would be the same age as Otto. Any dog born about {dog_age:.0f}\n",
        "years ago would be in the same stage of life as Otto.\"\"\")"
      ]
    },
    {
      "cell_type": "markdown",
      "id": "c2fd294e",
      "metadata": {
        "id": "c2fd294e"
      },
      "source": [
        "As another example, you can replace the name \"Otto\" with the variable `name` in curly braces."
      ]
    },
    {
      "cell_type": "code",
      "execution_count": 29,
      "id": "d75fdd48",
      "metadata": {
        "id": "d75fdd48",
        "outputId": "e1bf6396-e33c-4ab5-f52a-a53bfe921215",
        "colab": {
          "base_uri": "https://localhost:8080/"
        }
      },
      "outputs": [
        {
          "output_type": "stream",
          "name": "stdout",
          "text": [
            "Otto's dog age is 7. So a dog that's about\n",
            "7 would be the same age as Otto. Any dog born about 7\n",
            "years ago would be in the same stage of life as Otto.\n"
          ]
        }
      ],
      "source": [
        "print(f\"\"\"{name}'s dog age is {dog_age}. So a dog that's about\n",
        "{dog_age} would be the same age as {name}. Any dog born about {dog_age}\n",
        "years ago would be in the same stage of life as {name}.\"\"\")"
      ]
    },
    {
      "cell_type": "markdown",
      "id": "18ea082a",
      "metadata": {
        "id": "18ea082a"
      },
      "source": [
        "This way, you can change Otto's name to his first and last name:"
      ]
    },
    {
      "cell_type": "code",
      "execution_count": 30,
      "id": "1b6d403b",
      "metadata": {
        "id": "1b6d403b"
      },
      "outputs": [],
      "source": [
        "name = \"Otto Liam\""
      ]
    },
    {
      "cell_type": "markdown",
      "id": "8ace1ea1",
      "metadata": {
        "id": "8ace1ea1"
      },
      "source": [
        "## Fix this code\n",
        "And use the f-string where the change is reflected in all places where the variable `name` appears."
      ]
    },
    {
      "cell_type": "code",
      "execution_count": 31,
      "id": "21d5d631",
      "metadata": {
        "colab": {
          "base_uri": "https://localhost:8080/"
        },
        "id": "21d5d631",
        "outputId": "9799e15d-ca38-420c-f69f-45c057c0e66f"
      },
      "outputs": [
        {
          "output_type": "stream",
          "name": "stdout",
          "text": [
            "Otto Liam's dog age is 7. So a dog that's about\n",
            "7 would be the same age as Otto Liam. Any dog born about 7\n",
            "years ago would be in the same stage of life as Otto Liam.\n"
          ]
        }
      ],
      "source": [
        "print(f\"\"\"{name}'s dog age is {dog_age}. So a dog that's about\n",
        "{dog_age} would be the same age as {name}. Any dog born about {dog_age}\n",
        "years ago would be in the same stage of life as {name}.\"\"\")"
      ]
    },
    {
      "cell_type": "markdown",
      "id": "0FKmurJqBfQx",
      "metadata": {
        "id": "0FKmurJqBfQx"
      },
      "source": [
        "The following variable names also have some problems. Try to fix them yourself or use the help from the chatbot."
      ]
    },
    {
      "cell_type": "code",
      "execution_count": 32,
      "id": "6Fux6w_uBtjs",
      "metadata": {
        "id": "6Fux6w_uBtjs"
      },
      "outputs": [],
      "source": [
        "# Fix this code\n",
        "driver : str = \"unicorn\"\n",
        "driver_s_vehicle : str = \"colorful, asymmetric dinosaur car\"\n",
        "favorite_planet : str = \"Pluto\""
      ]
    },
    {
      "cell_type": "code",
      "execution_count": 33,
      "id": "eOtdde5hB3LB",
      "metadata": {
        "id": "eOtdde5hB3LB",
        "outputId": "7ef834f7-a422-4a12-8492-b1ae4d52af56",
        "colab": {
          "base_uri": "https://localhost:8080/"
        }
      },
      "outputs": [
        {
          "output_type": "stream",
          "name": "stdout",
          "text": [
            "My most favorite book is 1001 Ways to Wear a Hat.\n",
            " But I also like 2002 Ways to Wear a Scarf\n"
          ]
        }
      ],
      "source": [
        "# Fix this code\n",
        "favorite_book : str = \"1001 Ways to Wear a Hat\"\n",
        "sec_favbook=\"2002 Ways to Wear a Scarf\"\n",
        "print(f\"\"\"My most favorite book is {favorite_book}.\n",
        " But I also like {sec_favbook}\"\"\")"
      ]
    },
    {
      "cell_type": "markdown",
      "id": "98ec7de7",
      "metadata": {
        "id": "98ec7de7"
      },
      "source": [
        "## Extra practice\n",
        "\n",
        "Try the exercises below to practice the concepts from this lesson. Read the comments in each cell with the instructions for each exercise.\n",
        "\n",
        "<b>Feel free to use the chatbot if you need help.</b>"
      ]
    },
    {
      "cell_type": "code",
      "execution_count": null,
      "id": "4e522416",
      "metadata": {
        "id": "4e522416"
      },
      "outputs": [],
      "source": [
        "# Create a variable called 'my_name' and assign it the value of your name as a string.\n",
        "# Then print out a greeting using the variable, like \"Hello, Andrew!\""
      ]
    },
    {
      "cell_type": "code",
      "source": [
        "my_name : str = \"Ammar\"\n",
        "print(f\"Hello { my_name}\")"
      ],
      "metadata": {
        "id": "867VNNCM2F0h",
        "outputId": "f8b6c4cf-f35f-4cc3-d476-24c401e41f8e",
        "colab": {
          "base_uri": "https://localhost:8080/"
        }
      },
      "id": "867VNNCM2F0h",
      "execution_count": 34,
      "outputs": [
        {
          "output_type": "stream",
          "name": "stdout",
          "text": [
            "Hello Ammar\n"
          ]
        }
      ]
    },
    {
      "cell_type": "code",
      "execution_count": 36,
      "id": "8124eec4",
      "metadata": {
        "id": "8124eec4",
        "outputId": "c897b56a-ca31-47d1-d1cb-09d417591b7a",
        "colab": {
          "base_uri": "https://localhost:8080/"
        }
      },
      "outputs": [
        {
          "output_type": "stream",
          "name": "stdout",
          "text": [
            "Your favorite number plus 10 is 34\n"
          ]
        }
      ],
      "source": [
        "# Enter your favorite number below and store it in a variable called 'fav_num'.\n",
        "# Print out a message telling you what your favorite number plus 10 is.\n",
        "fav_num : int = 24\n",
        "print(f\"Your favorite number plus 10 is {fav_num+10}\")"
      ]
    },
    {
      "cell_type": "code",
      "execution_count": 37,
      "id": "1bc3acdd",
      "metadata": {
        "id": "1bc3acdd",
        "outputId": "7457a7d2-bcad-43e0-ae87-627b526a009c",
        "colab": {
          "base_uri": "https://localhost:8080/"
        }
      },
      "outputs": [
        {
          "output_type": "stream",
          "name": "stdout",
          "text": [
            "I have visited 5 countries. I plan to visit 10 more countries,\n",
            "      and when I'm done I will have visited 15 countries.\n"
          ]
        }
      ],
      "source": [
        "# Create two variables, 'countries_visited' and 'countries_to_visit' and assign them the number of\n",
        "# countries you've been to and the number of countries you hope to visit. Then complete the print statement.\n",
        "countries_visited : int = 5\n",
        "countries_to_visit : int = 10\n",
        "\n",
        "\n",
        "print(f\"\"\"I have visited {countries_visited} countries. I plan to visit {countries_to_visit} more countries,\n",
        "      and when I'm done I will have visited {countries_to_visit + countries_visited} countries.\"\"\")"
      ]
    },
    {
      "cell_type": "markdown",
      "id": "939ccb88",
      "metadata": {
        "id": "939ccb88"
      },
      "source": [
        "## String Concatenation \"+\" and \",\".And input() and len() function"
      ]
    },
    {
      "cell_type": "code",
      "execution_count": 38,
      "id": "a651c632",
      "metadata": {
        "id": "a651c632",
        "outputId": "5351b059-0e4b-49de-ab5f-56be6bcd3508",
        "colab": {
          "base_uri": "https://localhost:8080/"
        }
      },
      "outputs": [
        {
          "name": "stdout",
          "output_type": "stream",
          "text": [
            "Enter your name: Ammar\n"
          ]
        }
      ],
      "source": [
        "name: str = input(\"Enter your name: \")"
      ]
    },
    {
      "cell_type": "code",
      "execution_count": 39,
      "id": "55638f8e",
      "metadata": {
        "id": "55638f8e",
        "outputId": "a7eb3e10-bb28-46be-f70e-8b2dcca30d5c",
        "colab": {
          "base_uri": "https://localhost:8080/"
        }
      },
      "outputs": [
        {
          "output_type": "stream",
          "name": "stdout",
          "text": [
            "<class 'str'>\n"
          ]
        }
      ],
      "source": [
        "print(type(name))"
      ]
    },
    {
      "cell_type": "code",
      "execution_count": 40,
      "id": "b6d94568",
      "metadata": {
        "id": "b6d94568",
        "outputId": "a43ac413-81aa-4ff5-86d3-87a76d2c6bc4",
        "colab": {
          "base_uri": "https://localhost:8080/"
        }
      },
      "outputs": [
        {
          "output_type": "stream",
          "name": "stdout",
          "text": [
            "5\n"
          ]
        }
      ],
      "source": [
        "length : int = len(name)\n",
        "print(length)"
      ]
    },
    {
      "cell_type": "code",
      "execution_count": 46,
      "id": "1b945916",
      "metadata": {
        "id": "1b945916",
        "outputId": "28beba87-8f54-407e-bd85-bac546eba630",
        "colab": {
          "base_uri": "https://localhost:8080/"
        }
      },
      "outputs": [
        {
          "output_type": "stream",
          "name": "stdout",
          "text": [
            "My name is Ammar  and it has  5 characters.\n"
          ]
        }
      ],
      "source": [
        "print(\"My name is\"+\" \" + name,\" and it has \", length, \"characters.\")"
      ]
    },
    {
      "cell_type": "code",
      "execution_count": 56,
      "id": "f65d4596",
      "metadata": {
        "id": "f65d4596",
        "outputId": "cfa3760e-160a-48b1-e1ac-8aecead320e3",
        "colab": {
          "base_uri": "https://localhost:8080/"
        }
      },
      "outputs": [
        {
          "output_type": "stream",
          "name": "stdout",
          "text": [
            "Enter your age: 19\n",
            "<class 'str'>\n"
          ]
        }
      ],
      "source": [
        "age : int = input(\"Enter your age: \")\n",
        "print(type(age))"
      ]
    },
    {
      "cell_type": "code",
      "execution_count": 62,
      "id": "a68e9c3e",
      "metadata": {
        "id": "a68e9c3e",
        "outputId": "fcb57ac6-ae97-43d1-c3e6-262df40886e2",
        "colab": {
          "base_uri": "https://localhost:8080/"
        }
      },
      "outputs": [
        {
          "output_type": "stream",
          "name": "stdout",
          "text": [
            "your age will be after 10 years 29\n"
          ]
        }
      ],
      "source": [
        "age : int = 19\n",
        "print(\"your age will be after 10 years\",age + 10 )"
      ]
    }
  ],
  "metadata": {
    "colab": {
      "provenance": []
    },
    "kernelspec": {
      "display_name": "Python 3",
      "language": "python",
      "name": "python3"
    },
    "language_info": {
      "codemirror_mode": {
        "name": "ipython",
        "version": 3
      },
      "file_extension": ".py",
      "mimetype": "text/x-python",
      "name": "python",
      "nbconvert_exporter": "python",
      "pygments_lexer": "ipython3",
      "version": "3.12.8"
    }
  },
  "nbformat": 4,
  "nbformat_minor": 5
}