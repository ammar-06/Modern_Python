{
  "cells": [
    {
      "cell_type": "markdown",
      "id": "69326cad",
      "metadata": {
        "id": "69326cad"
      },
      "source": [
        "# Introduction to Tuples in Python\n",
        "\n",
        "## What is a Tuple?\n",
        "\n",
        "A tuple is an immutable, ordered collection of elements in Python. Tuples are similar to lists, but unlike lists, the elements of a tuple cannot be modified after it is created. Tuples are defined by enclosing elements in parentheses `()` and separating them with commas.\n",
        "\n",
        "### Key Features of Tuples:\n",
        "\n",
        "- **Immutable**: Once created, the elements of a tuple cannot be changed.\n",
        "- **Ordered**: Tuples maintain the order of elements. via index\n",
        "- **Heterogeneous**: Tuples can contain elements of different data types.\n",
        "- **Hashable**: Tuples can be used as keys in dictionaries if all their elements are hashable. Because dictionary's key is also immutable."
      ]
    },
    {
      "cell_type": "code",
      "execution_count": null,
      "id": "0c1f5705",
      "metadata": {
        "id": "0c1f5705",
        "outputId": "9f44b9af-cba7-4454-d8c9-b07655f5c670",
        "colab": {
          "base_uri": "https://localhost:8080/"
        }
      },
      "outputs": [
        {
          "output_type": "stream",
          "name": "stdout",
          "text": [
            "(1, 'apple', 3.14)\n"
          ]
        }
      ],
      "source": [
        "tuple_example : tuple[int,str,float]= (1, \"apple\", 3.14)\n",
        "print(tuple_example)"
      ]
    },
    {
      "cell_type": "markdown",
      "id": "99d909d8",
      "metadata": {
        "id": "99d909d8"
      },
      "source": [
        "## Why Use Tuples?\n",
        "\n",
        "### The Problem: Need for Immutable Data\n",
        "\n",
        "In scenarios where you want to ensure the data remains constant throughout the program, lists might not be ideal due to their mutability. For instance, configuration settings or fixed data collections can benefit from immutability.\n",
        "\n",
        "### The Solution: Tuples for Immutable Collections\n",
        "\n",
        "Tuples provide a way to create collections that cannot be altered, ensuring data integrity and consistency."
      ]
    },
    {
      "cell_type": "markdown",
      "id": "6a1823f9",
      "metadata": {
        "id": "6a1823f9"
      },
      "source": [
        "## How Tuples Work\n",
        "\n",
        "### Creating a Tuple\n",
        "\n",
        "Tuples can be created in several ways:"
      ]
    },
    {
      "cell_type": "markdown",
      "id": "842f2ea2",
      "metadata": {
        "id": "842f2ea2"
      },
      "source": [
        "1. **Using Parentheses:**"
      ]
    },
    {
      "cell_type": "code",
      "execution_count": 1,
      "id": "9e2dbb52",
      "metadata": {
        "id": "9e2dbb52",
        "outputId": "dd61eb25-78ad-49e2-dc64-5c3d206e6d15",
        "colab": {
          "base_uri": "https://localhost:8080/"
        }
      },
      "outputs": [
        {
          "output_type": "stream",
          "name": "stdout",
          "text": [
            "apple\n"
          ]
        }
      ],
      "source": [
        "fruits = (\"apple\", \"banana\", \"cherry\")\n",
        "print(fruits[0])"
      ]
    },
    {
      "cell_type": "markdown",
      "id": "035df994",
      "metadata": {
        "id": "035df994"
      },
      "source": [
        "2. **Without Parentheses:**"
      ]
    },
    {
      "cell_type": "code",
      "execution_count": 2,
      "id": "59245575",
      "metadata": {
        "id": "59245575",
        "colab": {
          "base_uri": "https://localhost:8080/"
        },
        "outputId": "6fc61103-218c-441e-e3ea-b3fe95a38522"
      },
      "outputs": [
        {
          "output_type": "stream",
          "name": "stdout",
          "text": [
            "(1, 2, 3)\n"
          ]
        }
      ],
      "source": [
        "numbers = 1, 2, 3\n",
        "print(numbers)"
      ]
    },
    {
      "cell_type": "markdown",
      "id": "5b3847aa",
      "metadata": {
        "id": "5b3847aa"
      },
      "source": [
        "3. **Using the `tuple` Constructor:**"
      ]
    },
    {
      "cell_type": "code",
      "execution_count": 3,
      "id": "13c25087",
      "metadata": {
        "id": "13c25087",
        "colab": {
          "base_uri": "https://localhost:8080/"
        },
        "outputId": "99db3aa3-96ea-4a0f-d66e-4fade685a9b1"
      },
      "outputs": [
        {
          "output_type": "stream",
          "name": "stdout",
          "text": [
            "(1, 2, 3)\n"
          ]
        }
      ],
      "source": [
        "tuple_from_list = tuple([1, 2, 3])\n",
        "print(tuple_from_list)\n",
        "\n"
      ]
    },
    {
      "cell_type": "markdown",
      "source": [
        "4. **Using the `range` function:**"
      ],
      "metadata": {
        "id": "-NuVAO0tGjWP"
      },
      "id": "-NuVAO0tGjWP"
    },
    {
      "cell_type": "code",
      "source": [
        "# Creating a tuple (1, 2, 3, 4, 5) using the range function\n",
        "my_tuple = tuple(range(1, 6))\n",
        "print(my_tuple)\n"
      ],
      "metadata": {
        "id": "97REVJiwGwh7",
        "outputId": "931f2ed6-a389-48f2-aecb-f8b8a85b25fc",
        "colab": {
          "base_uri": "https://localhost:8080/"
        }
      },
      "id": "97REVJiwGwh7",
      "execution_count": 4,
      "outputs": [
        {
          "output_type": "stream",
          "name": "stdout",
          "text": [
            "(1, 2, 3, 4, 5)\n"
          ]
        }
      ]
    },
    {
      "cell_type": "markdown",
      "id": "d552b09c",
      "metadata": {
        "id": "d552b09c"
      },
      "source": [
        "### Accessing Elements\n",
        "\n",
        "Tuples support indexing and slicing to access their elements:"
      ]
    },
    {
      "cell_type": "code",
      "execution_count": 5,
      "id": "bae7ec2f",
      "metadata": {
        "id": "bae7ec2f",
        "outputId": "83aaf29b-b0cc-4786-a017-fd659c577d9f",
        "colab": {
          "base_uri": "https://localhost:8080/"
        }
      },
      "outputs": [
        {
          "output_type": "stream",
          "name": "stdout",
          "text": [
            "('banana', 'cherry')\n"
          ]
        }
      ],
      "source": [
        "fruits = (\"apple\", \"banana\", \"cherry\")\n",
        "# print(fruits[2])  # Output\n",
        "print(fruits[1:]) # Output\n",
        "\n"
      ]
    },
    {
      "cell_type": "code",
      "source": [
        "my_tuple = tuple(range(1,11))\n",
        "print(my_tuple)\n"
      ],
      "metadata": {
        "id": "YRQ629JrR9z-",
        "outputId": "acb04adf-1cf9-48d9-bece-d75875a59c66",
        "colab": {
          "base_uri": "https://localhost:8080/"
        }
      },
      "id": "YRQ629JrR9z-",
      "execution_count": 6,
      "outputs": [
        {
          "output_type": "stream",
          "name": "stdout",
          "text": [
            "(1, 2, 3, 4, 5, 6, 7, 8, 9, 10)\n"
          ]
        }
      ]
    },
    {
      "cell_type": "code",
      "source": [
        "tour_tupple = tuple(range(1,21))\n",
        "print(tour_tupple)"
      ],
      "metadata": {
        "id": "YlIumlpsbd8x",
        "outputId": "5aebef55-34d0-46eb-8edd-093a3641b5ed",
        "colab": {
          "base_uri": "https://localhost:8080/"
        }
      },
      "id": "YlIumlpsbd8x",
      "execution_count": 7,
      "outputs": [
        {
          "output_type": "stream",
          "name": "stdout",
          "text": [
            "(1, 2, 3, 4, 5, 6, 7, 8, 9, 10, 11, 12, 13, 14, 15, 16, 17, 18, 19, 20)\n"
          ]
        }
      ]
    },
    {
      "cell_type": "code",
      "source": [
        "# my_tuple[0] = 12\n",
        "\n",
        "my_tuple = (1,[2,3,6],4)\n",
        "\n",
        "\n",
        "print(my_tuple)\n",
        "\n",
        "my_tuple[1][2] = 8\n",
        "print(my_tuple)\n",
        "# my_tuple[2] = 6\n"
      ],
      "metadata": {
        "id": "BqcKS-PeSH6K",
        "outputId": "c5eae5e4-932c-4fcf-ec5f-7fed9946c047",
        "colab": {
          "base_uri": "https://localhost:8080/"
        }
      },
      "id": "BqcKS-PeSH6K",
      "execution_count": 9,
      "outputs": [
        {
          "output_type": "stream",
          "name": "stdout",
          "text": [
            "(1, [2, 3, 6], 4)\n",
            "(1, [2, 3, 8], 4)\n"
          ]
        }
      ]
    },
    {
      "cell_type": "markdown",
      "id": "b8d679e3",
      "metadata": {
        "id": "b8d679e3"
      },
      "source": [
        "### Tuple Unpacking\n",
        "\n",
        "Tuples allow unpacking into individual variables:"
      ]
    },
    {
      "cell_type": "code",
      "execution_count": null,
      "id": "9186a8a6",
      "metadata": {
        "id": "9186a8a6",
        "outputId": "17070b5d-0aee-47f9-8673-416040ea5aa8",
        "colab": {
          "base_uri": "https://localhost:8080/"
        }
      },
      "outputs": [
        {
          "output_type": "stream",
          "name": "stdout",
          "text": [
            "10 20\n"
          ]
        }
      ],
      "source": [
        "coordinates = (10, 20)\n",
        "\n",
        "# x = coordinates\n",
        "\n",
        "x, y = coordinates\n",
        "print(x, y)  # Output: 10 20"
      ]
    },
    {
      "cell_type": "markdown",
      "id": "d4a64af5",
      "metadata": {
        "id": "d4a64af5"
      },
      "source": [
        "### Nested Tuples\n",
        "\n",
        "Tuples can be nested:"
      ]
    },
    {
      "cell_type": "code",
      "execution_count": null,
      "id": "83d8426e",
      "metadata": {
        "id": "83d8426e",
        "outputId": "d5f68cb3-f083-4abd-fe3e-bdc849a609df",
        "colab": {
          "base_uri": "https://localhost:8080/"
        }
      },
      "outputs": [
        {
          "output_type": "stream",
          "name": "stdout",
          "text": [
            "(1, 2)\n",
            "2\n"
          ]
        }
      ],
      "source": [
        "nested_tuple = ((1, 2), (3, 4))\n",
        "print(nested_tuple[0])  # Output: (1, 2)\n",
        "print(nested_tuple[0][1])"
      ]
    },
    {
      "cell_type": "markdown",
      "id": "2b409efe",
      "metadata": {
        "id": "2b409efe"
      },
      "source": [
        "## Common Tuple Operations\n",
        "\n",
        "### Concatenation\n",
        "\n",
        "Combine tuples using the `+` operator:"
      ]
    },
    {
      "cell_type": "code",
      "execution_count": null,
      "id": "a5ded04c",
      "metadata": {
        "id": "a5ded04c",
        "outputId": "7eb0d461-4280-48bb-99b2-952d70416f26",
        "colab": {
          "base_uri": "https://localhost:8080/"
        }
      },
      "outputs": [
        {
          "output_type": "stream",
          "name": "stdout",
          "text": [
            "(1, 2, 3, 4)\n"
          ]
        }
      ],
      "source": [
        "tuple1 = (1, 2)\n",
        "tuple2 = (3, 4)\n",
        "result = tuple1 + tuple2\n",
        "print(result)  # Output: (1, 2, 3, 4)"
      ]
    },
    {
      "cell_type": "markdown",
      "id": "49425cd2",
      "metadata": {
        "id": "49425cd2"
      },
      "source": [
        "### Repetition\n",
        "\n",
        "Repeat tuples using the `*` operator:"
      ]
    },
    {
      "cell_type": "code",
      "execution_count": null,
      "id": "79fb6d1f",
      "metadata": {
        "id": "79fb6d1f",
        "outputId": "807c5320-cb67-46ae-ddf1-d3ce9e5f2778",
        "colab": {
          "base_uri": "https://localhost:8080/"
        }
      },
      "outputs": [
        {
          "output_type": "stream",
          "name": "stdout",
          "text": [
            "AAAAA\n"
          ]
        }
      ],
      "source": [
        "repeated_tuple : tuple[str] = (\"A\",) * 5\n",
        "print(repeated_tuple)\n",
        "\n"
      ]
    },
    {
      "cell_type": "markdown",
      "id": "335df9d3",
      "metadata": {
        "id": "335df9d3"
      },
      "source": [
        "### Membership Test\n",
        "\n",
        "Check if an element exists in a tuple using the `in` keyword:"
      ]
    },
    {
      "cell_type": "code",
      "execution_count": null,
      "id": "43ac6c7a",
      "metadata": {
        "id": "43ac6c7a",
        "outputId": "73a88188-a5d9-4009-aff7-e4aaa8da2ebb",
        "colab": {
          "base_uri": "https://localhost:8080/"
        }
      },
      "outputs": [
        {
          "output_type": "stream",
          "name": "stdout",
          "text": [
            "False\n"
          ]
        }
      ],
      "source": [
        "fruits : tuple[str] = (\"apple\", \"banana\")\n",
        "print(\"Apple\" in fruits)"
      ]
    },
    {
      "cell_type": "markdown",
      "id": "4ea1e0c6",
      "metadata": {
        "id": "4ea1e0c6"
      },
      "source": [
        "### Tuple Methods\n",
        "\n",
        "Tuples have two built-in methods:"
      ]
    },
    {
      "cell_type": "markdown",
      "id": "7442727c",
      "metadata": {
        "id": "7442727c"
      },
      "source": [
        "1. `.count()`: Counts occurrences of a value."
      ]
    },
    {
      "cell_type": "code",
      "execution_count": 10,
      "id": "071763ea",
      "metadata": {
        "id": "071763ea",
        "outputId": "e1033e20-8501-4cb8-e53f-441e389a998e",
        "colab": {
          "base_uri": "https://localhost:8080/"
        }
      },
      "outputs": [
        {
          "output_type": "stream",
          "name": "stdout",
          "text": [
            "1\n"
          ]
        }
      ],
      "source": [
        "numbers : tuple[int] = (1, 2, 2, 3)\n",
        "print(numbers.count(3))  # Out"
      ]
    },
    {
      "cell_type": "markdown",
      "id": "534bdcb2",
      "metadata": {
        "id": "534bdcb2"
      },
      "source": [
        "2. `.index()`: Returns the first index of a value."
      ]
    },
    {
      "cell_type": "code",
      "execution_count": 20,
      "id": "b502a75e",
      "metadata": {
        "id": "b502a75e",
        "outputId": "76bfa8a4-9e66-45f6-b0eb-31c7573c8edd",
        "colab": {
          "base_uri": "https://localhost:8080/"
        }
      },
      "outputs": [
        {
          "output_type": "stream",
          "name": "stdout",
          "text": [
            "1\n",
            "3\n"
          ]
        }
      ],
      "source": [
        "numbers : tuple[int] = (1, 2, 3, 2)\n",
        "# print(numbers.index(2,2))  # Out\n",
        "\n",
        "first_index = numbers.index(2)\n",
        "print(first_index)\n",
        "print(numbers.index(2,2))"
      ]
    },
    {
      "cell_type": "markdown",
      "source": [
        "### Iterating Over a Tuple"
      ],
      "metadata": {
        "id": "xXOlBmwQjfkz"
      },
      "id": "xXOlBmwQjfkz"
    },
    {
      "cell_type": "code",
      "source": [
        "my_tuple = ('apple', 'banana', 'cherry')\n",
        "for fruit in my_tuple:\n",
        "    print(fruit)"
      ],
      "metadata": {
        "id": "FOWlODFDji_Z",
        "outputId": "6fb7be62-c596-4c09-de22-978ee713c800",
        "colab": {
          "base_uri": "https://localhost:8080/"
        }
      },
      "id": "FOWlODFDji_Z",
      "execution_count": null,
      "outputs": [
        {
          "output_type": "stream",
          "name": "stdout",
          "text": [
            "apple\n",
            "banana\n",
            "cherry\n"
          ]
        }
      ]
    },
    {
      "cell_type": "markdown",
      "source": [
        "### Storing Related Data\n",
        "Tuples can store related data, like coordinates or RGB color values."
      ],
      "metadata": {
        "id": "lPqPfIOEjuuI"
      },
      "id": "lPqPfIOEjuuI"
    },
    {
      "cell_type": "code",
      "source": [
        "point = (10, 20)\n",
        "color = (255, 0, 0)\n",
        "\n",
        "print(point)  # Output: (10, 20)\n",
        "print(color)  # Output: (255, 0, 0)"
      ],
      "metadata": {
        "id": "V90gQFBzj3H-",
        "outputId": "55966e00-a655-4b29-dd42-83d292f71fa0",
        "colab": {
          "base_uri": "https://localhost:8080/"
        }
      },
      "id": "V90gQFBzj3H-",
      "execution_count": 21,
      "outputs": [
        {
          "output_type": "stream",
          "name": "stdout",
          "text": [
            "(10, 20)\n",
            "(255, 0, 0)\n"
          ]
        }
      ]
    },
    {
      "cell_type": "markdown",
      "id": "5b77f7a5",
      "metadata": {
        "id": "5b77f7a5"
      },
      "source": [
        "## Applications of Tuples\n",
        "\n",
        "### Using Tuples as Dictionary Keys\n",
        "\n",
        "Since tuples are immutable, they can be used as keys in dictionaries:\n",
        "\n",
        "Hashable: Tuples can be used as keys in dictionaries if all their elements are hashable.\n",
        "\n",
        "Hashable objects cannot be changed after their creation. For example, integers, floats, strings, and tuples (with hashable elements) are hashable because they are immutable."
      ]
    },
    {
      "cell_type": "code",
      "source": [],
      "metadata": {
        "id": "40V5DKBHZEGc"
      },
      "id": "40V5DKBHZEGc",
      "execution_count": null,
      "outputs": []
    },
    {
      "cell_type": "code",
      "execution_count": null,
      "id": "3ed7b1f2",
      "metadata": {
        "id": "3ed7b1f2",
        "outputId": "58818ffb-77c3-4b61-99e1-7a4ec981eb46",
        "colab": {
          "base_uri": "https://localhost:8080/"
        }
      },
      "outputs": [
        {
          "output_type": "stream",
          "name": "stdout",
          "text": [
            "Park\n"
          ]
        }
      ],
      "source": [
        "# simple_dictionary = {\n",
        "#     \"Ali\" : 59,\n",
        "#     \"Asim\" : 78\n",
        "# }\n",
        "\n",
        "# print(simple_dictionary[\"Ali\"])\n",
        "\n",
        "locations : dict[tuple[int,int],str] = { (10, 20): \"Park\", (30, 40): \"Mall\" }\n",
        "print(locations[(10, 20)])  # Output: Park\n",
        "\n"
      ]
    },
    {
      "cell_type": "markdown",
      "id": "24ee5d25",
      "metadata": {
        "id": "24ee5d25"
      },
      "source": [
        "### Returning Multiple Values from Functions(after function lesson complete)\n",
        "\n",
        "Tuples are often used to return multiple values:"
      ]
    },
    {
      "cell_type": "code",
      "execution_count": 1,
      "id": "1effb047",
      "metadata": {
        "id": "1effb047",
        "outputId": "f9a3000c-77b7-4368-d4d2-e93511bda4ac",
        "colab": {
          "base_uri": "https://localhost:8080/"
        }
      },
      "outputs": [
        {
          "output_type": "stream",
          "name": "stdout",
          "text": [
            "(1, 4)\n"
          ]
        }
      ],
      "source": [
        "def min_max(numbers):\n",
        "    return min(numbers), max(numbers)\n",
        "\n",
        "result = min_max([1, 2, 3, 4])\n",
        "print(result)  # Output: (1, 4)"
      ]
    },
    {
      "cell_type": "markdown",
      "id": "8b8c8bef",
      "metadata": {
        "id": "8b8c8bef"
      },
      "source": [
        "### Storing Fixed Data\n",
        "\n",
        "Tuples are ideal for storing data that should not change:"
      ]
    },
    {
      "cell_type": "code",
      "execution_count": 2,
      "id": "0f5d9d5e",
      "metadata": {
        "id": "0f5d9d5e",
        "outputId": "49b3a634-8a68-4231-de57-3767cf35d1cf",
        "colab": {
          "base_uri": "https://localhost:8080/"
        }
      },
      "outputs": [
        {
          "output_type": "stream",
          "name": "stdout",
          "text": [
            "('Monday', 'Tuesday', 'Wednesday', 'Thursday', 'Friday')\n"
          ]
        }
      ],
      "source": [
        "weekdays = (\"Monday\", \"Tuesday\", \"Wednesday\", \"Thursday\", \"Friday\")\n",
        "print(weekdays)"
      ]
    },
    {
      "cell_type": "markdown",
      "id": "4fa43ff4",
      "metadata": {
        "id": "4fa43ff4"
      },
      "source": [
        "## Projects\n",
        "\n",
        "### Project 1: Tuple Operations\n",
        "\n",
        "Write a program that:\n",
        "\n",
        "- Creates a tuple of numbers.\n",
        "- Finds the sum and product of all elements."
      ]
    },
    {
      "cell_type": "code",
      "source": [
        "numbers = (1, 2, 3, 4, 5)\n",
        "sum_of_numbers = sum(numbers)\n",
        "product_of_numbers = 1\n",
        "for number in numbers:\n",
        "    product_of_numbers *= number\n",
        "\n",
        "print(sum_of_numbers)\n",
        "print(product_of_numbers)"
      ],
      "metadata": {
        "id": "ppxFa16K0qPm",
        "outputId": "e2777534-35f1-4c41-e247-abee3b01dbce",
        "colab": {
          "base_uri": "https://localhost:8080/"
        }
      },
      "id": "ppxFa16K0qPm",
      "execution_count": 4,
      "outputs": [
        {
          "output_type": "stream",
          "name": "stdout",
          "text": [
            "15\n",
            "120\n"
          ]
        }
      ]
    },
    {
      "cell_type": "markdown",
      "source": [
        "### Project 2: Number Classification\n",
        "**Build a program that:**\n",
        "\n",
        "- Uses list comprehension to classify numbers in a range from 1 to 5 as \"odd\" or \"even.\"\n",
        "- Outputs a list of tuples where each tuple contains the number and its classification.\n",
        "\n",
        "**Break into step by step:**\n",
        "\n",
        "You need to create a program that:\n",
        "- Iterates over a range of numbers from 1 to 5.\n",
        "- Uses list comprehension to classify each number as either \"odd\" or \"even.\"\n",
        "- Outputs a list of tuples, where each tuple contains:\n",
        "  - The number.\n",
        "  - Its classification (\"odd\" or \"even\").\n",
        "\n",
        "**  Expected Output:**\n",
        "  \n",
        "  [(1,\"\"Odd),(2,\"Even\"),....]"
      ],
      "metadata": {
        "id": "1PFAtSCvw-Pr"
      },
      "id": "1PFAtSCvw-Pr"
    },
    {
      "cell_type": "code",
      "source": [
        "numbers = [(i, \"Even\" if i % 2 == 0 else \"Odd\") for i in range(1, 6)]\n",
        "\n",
        "print(numbers)\n",
        ""
      ],
      "metadata": {
        "id": "Q8I6PtxG6PRi",
        "outputId": "c170b646-e4ca-465d-906e-3ce5523563c8",
        "colab": {
          "base_uri": "https://localhost:8080/"
        }
      },
      "id": "Q8I6PtxG6PRi",
      "execution_count": 9,
      "outputs": [
        {
          "output_type": "stream",
          "name": "stdout",
          "text": [
            "[(1, 'Odd'), (2, 'Even'), (3, 'Odd'), (4, 'Even'), (5, 'Odd')]\n"
          ]
        }
      ]
    },
    {
      "cell_type": "markdown",
      "id": "e9be6d8a",
      "metadata": {
        "id": "e9be6d8a"
      },
      "source": [
        "### Project 3: Contact Book\n",
        "\n",
        "Create a dictionary where keys are tuples (name, phone number) and values are addresses."
      ]
    },
    {
      "cell_type": "code",
      "source": [
        "contact_book : dict[tuple[str,int],str]= { (\"Ammar\",912) : \"Park\" , (\"Asim\",22):\"Land\" , (\"Khan\", 271) :\"Pakistani\"}\n",
        "\n",
        "print(contact_book[(\"Ammar\",912)])"
      ],
      "metadata": {
        "id": "JRrHuFRY_myw",
        "outputId": "37ed5615-65b6-4561-fcb2-6046599905d4",
        "colab": {
          "base_uri": "https://localhost:8080/"
        }
      },
      "id": "JRrHuFRY_myw",
      "execution_count": 27,
      "outputs": [
        {
          "output_type": "stream",
          "name": "stdout",
          "text": [
            "Park\n"
          ]
        }
      ]
    },
    {
      "cell_type": "markdown",
      "id": "8ebd4ea6",
      "metadata": {
        "id": "8ebd4ea6"
      },
      "source": [
        "## Conclusion\n",
        "\n",
        "Tuples are a fundamental data structure in Python, offering immutability, simplicity, and versatility. Whether you're using them for data integrity, as keys in dictionaries, or for returning multiple values, tuples provide a robust solution for various programming scenarios."
      ]
    }
  ],
  "metadata": {
    "colab": {
      "provenance": []
    },
    "language_info": {
      "name": "python"
    },
    "kernelspec": {
      "name": "python3",
      "display_name": "Python 3"
    }
  },
  "nbformat": 4,
  "nbformat_minor": 5
}