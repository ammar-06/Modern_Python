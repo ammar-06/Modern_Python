{
  "cells": [
    {
      "cell_type": "markdown",
      "metadata": {
        "id": "view-in-github",
        "colab_type": "text"
      },
      "source": [
        "<a href=\"https://colab.research.google.com/github/ammar-06/Modern_Python/blob/main/03-AI-Modern-Python-Programming/course1_basics_level/Lesson_1.ipynb\" target=\"_parent\"><img src=\"https://colab.research.google.com/assets/colab-badge.svg\" alt=\"Open In Colab\"/></a>"
      ]
    },
    {
      "cell_type": "markdown",
      "metadata": {
        "id": "18XOnXK4uleN"
      },
      "source": [
        "# Lesson 1: Running your first program\n",
        "\n",
        "Now it's your turn to try running Python code!\n",
        "\n"
      ]
    },
    {
      "cell_type": "markdown",
      "metadata": {
        "id": "K6V3ILcuulej"
      },
      "source": [
        "### 1. Hello, World!\n",
        "\n",
        "\n",
        "To run the code, click anywhere into the cell (the box with the code inside), and then type `Shift` + `Enter` (`Shift` + `Return` on a Mac) to execute."
      ]
    },
    {
      "cell_type": "code",
      "execution_count": 1,
      "metadata": {
        "colab": {
          "base_uri": "https://localhost:8080/"
        },
        "id": "eHBlkJKBulep",
        "outputId": "2f08d342-6549-4747-de54-25746131635e"
      },
      "outputs": [
        {
          "output_type": "stream",
          "name": "stdout",
          "text": [
            "Hello, World!\n"
          ]
        }
      ],
      "source": [
        "print(\"Hello, World!\")"
      ]
    },
    {
      "cell_type": "markdown",
      "metadata": {
        "id": "gkouEerBulev"
      },
      "source": [
        "**Congratulations!** You have just joined the millions of people who have started their computer programming adventure by running this simple code!"
      ]
    },
    {
      "cell_type": "markdown",
      "metadata": {
        "id": "uKuWD-UUulew"
      },
      "source": [
        "### 2. Hello, you!\n",
        "\n",
        "Let's create python code to say hello to you, instead of the world. Here are the steps to follow along with Andrew in the video:\n",
        "1. Open the chatbot\n",
        "2. Type in this prompt (substituting your name for mine)\n",
        "\n",
        "            Modify the code below to have it say hello to me.\n",
        "            \n",
        "            print(\"Hello, World!\")\n",
        "            \n",
        "            My name is Andrew\n",
        "   \n",
        "4. Paste the output code in the cell below using `Ctrl`+`V` (`Command`+`C` on a Mac)\n",
        "6. Press `Shift + Enter` to submit your prompt\n",
        "\n",
        "Once the chatbot has returned the code to you, you can copy and paste it into the cell below. Only copy the code in the black box - don't copy any conversation text that the chatbot writes."
      ]
    },
    {
      "cell_type": "markdown",
      "metadata": {
        "id": "xyn7u76AxBQ2"
      },
      "source": []
    },
    {
      "cell_type": "code",
      "execution_count": 4,
      "metadata": {
        "colab": {
          "base_uri": "https://localhost:8080/"
        },
        "id": "Lu03z208uley",
        "outputId": "e742639a-25bf-4c5f-fc3f-f227c826b5cd"
      },
      "outputs": [
        {
          "output_type": "stream",
          "name": "stdout",
          "text": [
            "Hello, you\n"
          ]
        }
      ],
      "source": [
        "# PASTE CODE FROM CHATBOT ON THE NEXT LINE IN THIS CELL\n",
        "print (\"Hello, you\")"
      ]
    },
    {
      "cell_type": "markdown",
      "metadata": {
        "id": "t5QpIFE7ule0"
      },
      "source": [
        "You should see Python print out \"Hello,\" followed by your name above.\n",
        "\n",
        "One other thing to notice here - when you run a code cell, the little square brackets to the left of the cell will change to a number."
      ]
    },
    {
      "cell_type": "markdown",
      "metadata": {
        "id": "B6pL7khcule1"
      },
      "source": [
        "### 3. Say hello to someone you love!\n",
        "\n",
        "Copy and paste (or just type out directly) the \"Hello, World!\" code in the cell below. Then modify the text between the quotation to say hello to your best friend, or favorite pet, or anyone else you love!"
      ]
    },
    {
      "cell_type": "code",
      "execution_count": 5,
      "metadata": {
        "id": "JnUn5Kjmule3"
      },
      "outputs": [],
      "source": [
        "# ADD YOUR CODE ON THE NEXT LINE\n"
      ]
    },
    {
      "cell_type": "markdown",
      "metadata": {
        "id": "CLPCKM-2ule4"
      },
      "source": [
        "### 4. Comments in code\n",
        "You may be wondering what the text is in the cells above that starts with the `#` hash or pound symbol. This is a comment line. It tells Python that it can ignore anything that follows on that line after the `#` symbol. Comments are used to help other humans understand what your code does.\n",
        "\n",
        "Try running the next cell by pressing `Shift`+`Enter` - what do you think will happen?"
      ]
    },
    {
      "cell_type": "code",
      "execution_count": null,
      "metadata": {
        "id": "d9GH6vqdule6"
      },
      "outputs": [],
      "source": [
        "# THIS IS A COMMENT - PYTHON WILL IGNORE THIS LINE"
      ]
    },
    {
      "cell_type": "markdown",
      "metadata": {
        "id": "gC_9EzUUule7"
      },
      "source": [
        "The cell above runs just like the code you ran before - you saw the `#` appear to the left of the cell, and then change to a number. But this time nothing appeared on the screen.\n",
        "\n",
        "A comment line is a valid piece of Python code. It tells Python to ignore what follows. Here, Python followed that command exactly, running the code, ignoring the text, and because the code had no output to return to you, it seemed like \"nothing happened.\"\n",
        "\n",
        "Click into the cell below and click `Shift`+`Enter` to run the code - make sure to ask yourself what you think will happen first, and then see if you were right."
      ]
    },
    {
      "cell_type": "code",
      "execution_count": 6,
      "metadata": {
        "id": "Nxy3R0cLule7",
        "outputId": "7b590931-f948-4c23-b298-ef47d8872891",
        "colab": {
          "base_uri": "https://localhost:8080/"
        }
      },
      "outputs": [
        {
          "output_type": "stream",
          "name": "stdout",
          "text": [
            "This is a print statement!\n"
          ]
        }
      ],
      "source": [
        "print(\"This is a print statement!\")"
      ]
    },
    {
      "cell_type": "markdown",
      "metadata": {
        "id": "EnuRcku7ule8"
      },
      "source": [
        "Now click into the cell again and type a `#` at the start of the line. What do you think this change will result in? Run the cell by pressing `Shift` + `Enter` to check!"
      ]
    },
    {
      "cell_type": "markdown",
      "metadata": {
        "id": "1ZgqAcrsule9"
      },
      "source": [
        "You can have multiple comment lines in your code, including one after another, and dispersed throughout your code:"
      ]
    },
    {
      "cell_type": "code",
      "execution_count": 7,
      "metadata": {
        "id": "2erO7sjrule9",
        "outputId": "f08ef995-3a85-485d-9c3e-c78365bd01dc",
        "colab": {
          "base_uri": "https://localhost:8080/"
        }
      },
      "outputs": [
        {
          "output_type": "stream",
          "name": "stdout",
          "text": [
            "Hello, Andrew!\n",
            "How is your day going?\n"
          ]
        }
      ],
      "source": [
        "# This is an example of code with multiple\n",
        "# comments, including this one which\n",
        "# spans multiple lines\n",
        "print(\"Hello, Andrew!\")\n",
        "# Follow up with an additional print command\n",
        "print(\"How is your day going?\")"
      ]
    },
    {
      "cell_type": "markdown",
      "metadata": {
        "id": "lF61x4PLule-"
      },
      "source": [
        "### 5. Making mistakes is no big deal!\n",
        "\n",
        "Run the code in the next cell to see an example of how Python responds to code with an error in it."
      ]
    },
    {
      "cell_type": "code",
      "execution_count": 10,
      "metadata": {
        "id": "XyEOIfcCyVMA",
        "outputId": "450e80de-b298-4906-c446-bb0e569fae24",
        "colab": {
          "base_uri": "https://localhost:8080/"
        }
      },
      "outputs": [
        {
          "output_type": "stream",
          "name": "stdout",
          "text": [
            "Hello, Andrew!\n"
          ]
        }
      ],
      "source": [
        "print(\"Hello, Andrew!\")"
      ]
    },
    {
      "cell_type": "markdown",
      "metadata": {
        "id": "UEc7jd3eule_"
      },
      "source": [
        "You can ask the chatbot to help you fix this code:\n",
        "1. Open the chatbot\n",
        "2. Enter the following prompt:\n",
        "\n",
        "       What is wrong with this code, and how do I fix it?\n",
        "\n",
        "       print(\"Hello, Andrew!)\n",
        "\n",
        "Fix the code in the next cell based on the chatbot's recommendation and run the cell using `Shift`+`Enter` to see if the fix worked!"
      ]
    },
    {
      "cell_type": "code",
      "execution_count": 11,
      "metadata": {
        "id": "yaFDEdOgulfA",
        "outputId": "124bb7c3-5c87-4864-b90b-4f6240d3c37f",
        "colab": {
          "base_uri": "https://localhost:8080/"
        }
      },
      "outputs": [
        {
          "output_type": "stream",
          "name": "stdout",
          "text": [
            "Hello, Andrew!\n"
          ]
        }
      ],
      "source": [
        "# Edit the code on the next line to correct the error\n",
        "print(\"Hello, Andrew!\")"
      ]
    },
    {
      "cell_type": "markdown",
      "metadata": {
        "id": "IjAEyHYtulfB"
      },
      "source": [
        "### Practice for yourself!\n",
        "\n",
        "You can practice what you've learned in this lesson by trying out the code exercises below. For each one, follow the instructions in the comment line, then write your code on the next line below the comment. Once you are done, run your code by typing `Shift` + `Enter`. You can do this as many times as you like."
      ]
    },
    {
      "cell_type": "code",
      "execution_count": 13,
      "metadata": {
        "id": "eTZz7-kxulfB"
      },
      "outputs": [],
      "source": [
        "# Write code that displays your favorite color"
      ]
    },
    {
      "cell_type": "code",
      "source": [
        "print(\"Mt favourite colour is Black\")"
      ],
      "metadata": {
        "id": "GaConwkHQ8ha",
        "outputId": "5026173b-6d9f-4292-9f73-9d201ca9eb5f",
        "colab": {
          "base_uri": "https://localhost:8080/"
        }
      },
      "execution_count": 12,
      "outputs": [
        {
          "output_type": "stream",
          "name": "stdout",
          "text": [
            "Mt favourite colour is Black\n"
          ]
        }
      ]
    },
    {
      "cell_type": "code",
      "execution_count": 14,
      "metadata": {
        "id": "X7_kTkwculfC",
        "outputId": "c2b9ec9f-0798-4c16-e5ea-09bfc12c9908",
        "colab": {
          "base_uri": "https://localhost:8080/"
        }
      },
      "outputs": [
        {
          "output_type": "stream",
          "name": "stdout",
          "text": [
            "I am feeling good\n"
          ]
        }
      ],
      "source": [
        "# Write code that answers the question \"How are you feeling today?\"\n",
        "print(\"I am feeling good\")"
      ]
    },
    {
      "cell_type": "code",
      "execution_count": 15,
      "metadata": {
        "id": "fmcPviRFulfD",
        "outputId": "9d954fe5-6619-4ca5-8e3d-fd80455aecd2",
        "colab": {
          "base_uri": "https://localhost:8080/"
        }
      },
      "outputs": [
        {
          "output_type": "stream",
          "name": "stdout",
          "text": [
            "I am feeling good\n"
          ]
        }
      ],
      "source": [
        "# Alter your code from the previous cell so that it will cause an error when you run it\n",
        "print(\"I am feeling good\")"
      ]
    },
    {
      "cell_type": "code",
      "execution_count": 16,
      "metadata": {
        "id": "F0fw5kKTulfD",
        "outputId": "6732eb5f-d29e-460c-9aa3-09ba706baaf0",
        "colab": {
          "base_uri": "https://localhost:8080/"
        }
      },
      "outputs": [
        {
          "output_type": "stream",
          "name": "stdout",
          "text": [
            "I am feeling good\n"
          ]
        }
      ],
      "source": [
        "# Ask an LLM to help you fix the error in the code in the previous cell (or fix yourself) and\n",
        "# then type the corrected code on the next line:\n",
        "print(\"I am feeling good\")"
      ]
    }
  ],
  "metadata": {
    "colab": {
      "provenance": [],
      "include_colab_link": true
    },
    "kernelspec": {
      "display_name": "Python 3 (ipykernel)",
      "language": "python",
      "name": "python3"
    },
    "language_info": {
      "codemirror_mode": {
        "name": "ipython",
        "version": 3
      },
      "file_extension": ".py",
      "mimetype": "text/x-python",
      "name": "python",
      "nbconvert_exporter": "python",
      "pygments_lexer": "ipython3",
      "version": "3.9.19"
    }
  },
  "nbformat": 4,
  "nbformat_minor": 0
}